{
 "cells": [
  {
   "cell_type": "markdown",
   "metadata": {},
   "source": [
    "# LEET CODE\n",
    "## Problem-586: Customer Placing The Largest Number of Orders\n",
    "Class: Easy\n",
    "\n",
    "Source: https://leetcode.com/problems/customer-placing-the-largest-number-of-orders/\n",
    "\n",
    "## Description\n",
    "Table: Orders\n",
    "| Column Name     | Type     |\n",
    "|-----------------|----------|\n",
    "| order_number    | int      |\n",
    "| customer_number | int      |\n",
    "\n",
    "order_number is the primary key (column with unique values) for this table.\n",
    "This table contains information about the order ID and the customer ID.\n",
    "\n",
    " \n",
    "## To Do\n",
    "Write a solution to find the customer_number for the customer who has placed the largest number of orders.\n",
    "\n",
    "The test cases are generated so that exactly one customer will have placed more orders than any other customer.\n",
    "\n",
    "The result format is in the following example.\n",
    "\n",
    "## Example\n",
    "Input: \n",
    "\n",
    "Orders table:\n",
    "| order_number | customer_number |\n",
    "|--------------|-----------------|\n",
    "| 1            | 1               |\n",
    "| 2            | 2               |\n",
    "| 3            | 3               |\n",
    "| 4            | 3               |\n",
    "\n",
    "Output: \n",
    "| customer_number |\n",
    "|-----------------|\n",
    "| 3               |\n",
    "\n",
    "Explanation: \n",
    "- The customer with number 3 has two orders, which is greater than either customer 1 or 2 because each of them only has one order. \n",
    "- So the result is customer_number 3.\n",
    "\n"
   ]
  },
  {
   "cell_type": "markdown",
   "metadata": {},
   "source": [
    "## Importing"
   ]
  },
  {
   "cell_type": "code",
   "execution_count": 1,
   "metadata": {},
   "outputs": [],
   "source": [
    "import pandas as pd\n",
    "from pandasql import sqldf"
   ]
  },
  {
   "cell_type": "markdown",
   "metadata": {},
   "source": [
    "## Define Schema"
   ]
  },
  {
   "cell_type": "code",
   "execution_count": 2,
   "metadata": {},
   "outputs": [],
   "source": [
    "data = [[1, 1], [2, 2], [3, 3], [4, 3]]\n",
    "orders = pd.DataFrame(data, columns=['order_number', 'customer_number']).astype({'order_number':'Int64', 'customer_number':'Int64'})"
   ]
  },
  {
   "cell_type": "code",
   "execution_count": 3,
   "metadata": {},
   "outputs": [
    {
     "data": {
      "text/html": [
       "<div>\n",
       "<style scoped>\n",
       "    .dataframe tbody tr th:only-of-type {\n",
       "        vertical-align: middle;\n",
       "    }\n",
       "\n",
       "    .dataframe tbody tr th {\n",
       "        vertical-align: top;\n",
       "    }\n",
       "\n",
       "    .dataframe thead th {\n",
       "        text-align: right;\n",
       "    }\n",
       "</style>\n",
       "<table border=\"1\" class=\"dataframe\">\n",
       "  <thead>\n",
       "    <tr style=\"text-align: right;\">\n",
       "      <th></th>\n",
       "      <th>order_number</th>\n",
       "      <th>customer_number</th>\n",
       "    </tr>\n",
       "  </thead>\n",
       "  <tbody>\n",
       "    <tr>\n",
       "      <th>0</th>\n",
       "      <td>1</td>\n",
       "      <td>1</td>\n",
       "    </tr>\n",
       "    <tr>\n",
       "      <th>1</th>\n",
       "      <td>2</td>\n",
       "      <td>2</td>\n",
       "    </tr>\n",
       "    <tr>\n",
       "      <th>2</th>\n",
       "      <td>3</td>\n",
       "      <td>3</td>\n",
       "    </tr>\n",
       "    <tr>\n",
       "      <th>3</th>\n",
       "      <td>4</td>\n",
       "      <td>3</td>\n",
       "    </tr>\n",
       "  </tbody>\n",
       "</table>\n",
       "</div>"
      ],
      "text/plain": [
       "   order_number  customer_number\n",
       "0             1                1\n",
       "1             2                2\n",
       "2             3                3\n",
       "3             4                3"
      ]
     },
     "execution_count": 3,
     "metadata": {},
     "output_type": "execute_result"
    }
   ],
   "source": [
    "orders"
   ]
  },
  {
   "cell_type": "markdown",
   "metadata": {},
   "source": [
    "## Task"
   ]
  },
  {
   "cell_type": "code",
   "execution_count": 16,
   "metadata": {},
   "outputs": [
    {
     "data": {
      "text/html": [
       "<div>\n",
       "<style scoped>\n",
       "    .dataframe tbody tr th:only-of-type {\n",
       "        vertical-align: middle;\n",
       "    }\n",
       "\n",
       "    .dataframe tbody tr th {\n",
       "        vertical-align: top;\n",
       "    }\n",
       "\n",
       "    .dataframe thead th {\n",
       "        text-align: right;\n",
       "    }\n",
       "</style>\n",
       "<table border=\"1\" class=\"dataframe\">\n",
       "  <thead>\n",
       "    <tr style=\"text-align: right;\">\n",
       "      <th></th>\n",
       "      <th>customer_number</th>\n",
       "    </tr>\n",
       "  </thead>\n",
       "  <tbody>\n",
       "    <tr>\n",
       "      <th>0</th>\n",
       "      <td>3</td>\n",
       "    </tr>\n",
       "  </tbody>\n",
       "</table>\n",
       "</div>"
      ],
      "text/plain": [
       "   customer_number\n",
       "0                3"
      ]
     },
     "metadata": {},
     "output_type": "display_data"
    }
   ],
   "source": [
    "# Define the SQL query\n",
    "query = \"\"\"\n",
    "SELECT customer_number \n",
    "FROM\n",
    "    (SELECT customer_number, count(*) as counts\n",
    "    FROM Orders\n",
    "    GROUP BY customer_number\n",
    "    ORDER BY counts DESC LIMIT 1) \n",
    "as customer_count;\n",
    "\"\"\"\n",
    "\n",
    "# Excure the query using pandasql\n",
    "result = sqldf(query, env={'Orders':orders})\n",
    "\n",
    "# Display the result dataframe\n",
    "display(result)"
   ]
  },
  {
   "cell_type": "markdown",
   "metadata": {},
   "source": [
    "### Another Solution"
   ]
  },
  {
   "cell_type": "code",
   "execution_count": 17,
   "metadata": {},
   "outputs": [
    {
     "data": {
      "text/html": [
       "<div>\n",
       "<style scoped>\n",
       "    .dataframe tbody tr th:only-of-type {\n",
       "        vertical-align: middle;\n",
       "    }\n",
       "\n",
       "    .dataframe tbody tr th {\n",
       "        vertical-align: top;\n",
       "    }\n",
       "\n",
       "    .dataframe thead th {\n",
       "        text-align: right;\n",
       "    }\n",
       "</style>\n",
       "<table border=\"1\" class=\"dataframe\">\n",
       "  <thead>\n",
       "    <tr style=\"text-align: right;\">\n",
       "      <th></th>\n",
       "      <th>customer_number</th>\n",
       "    </tr>\n",
       "  </thead>\n",
       "  <tbody>\n",
       "    <tr>\n",
       "      <th>0</th>\n",
       "      <td>3</td>\n",
       "    </tr>\n",
       "  </tbody>\n",
       "</table>\n",
       "</div>"
      ],
      "text/plain": [
       "   customer_number\n",
       "0                3"
      ]
     },
     "metadata": {},
     "output_type": "display_data"
    }
   ],
   "source": [
    "# Define the SQL query\n",
    "query = \"\"\"\n",
    "SELECT customer_number\n",
    "FROM Orders\n",
    "GROUP BY customer_number\n",
    "ORDER BY count(*) DESC LIMIT 1\n",
    "\"\"\"\n",
    "\n",
    "# Excure the query using pandasql\n",
    "result = sqldf(query, env={'Orders':orders})\n",
    "\n",
    "# Display the result dataframe\n",
    "display(result)"
   ]
  },
  {
   "cell_type": "code",
   "execution_count": null,
   "metadata": {},
   "outputs": [],
   "source": []
  }
 ],
 "metadata": {
  "kernelspec": {
   "display_name": "Python 3",
   "language": "python",
   "name": "python3"
  },
  "language_info": {
   "codemirror_mode": {
    "name": "ipython",
    "version": 3
   },
   "file_extension": ".py",
   "mimetype": "text/x-python",
   "name": "python",
   "nbconvert_exporter": "python",
   "pygments_lexer": "ipython3",
   "version": "3.10.12"
  },
  "orig_nbformat": 4
 },
 "nbformat": 4,
 "nbformat_minor": 2
}
