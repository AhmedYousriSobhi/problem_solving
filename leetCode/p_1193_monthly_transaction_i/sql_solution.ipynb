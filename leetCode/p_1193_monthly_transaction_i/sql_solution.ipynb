{
 "cells": [
  {
   "cell_type": "markdown",
   "metadata": {},
   "source": [
    "# LEET CODE\n",
    "## Problem-1193: Monthly Transactions I\n",
    "Class: Medium\n",
    "\n",
    "Source: https://leetcode.com/problems/monthly-transactions-i\n",
    "\n",
    "## Description\n",
    "Table: Transactions\n",
    "| Column Name   | Type    |\n",
    "|---------------|---------|\n",
    "| id            | int     |\n",
    "| country       | varchar |\n",
    "| state         | enum    |\n",
    "| amount        | int     |\n",
    "| trans_date    | date    |\n",
    "\n",
    "- id is the primary key of this table.\n",
    "- The table has information about incoming transactions.\n",
    "- The state column is an enum of type [\"approved\", \"declined\"].\n",
    "\n",
    "## To Do\n",
    "Write an SQL query to find for each month and country, the number of transactions and their total amount, the number of approved transactions and their total amount.\n",
    "\n",
    "Return the result table in any order.\n",
    "\n",
    "The query result format is in the following example.\n",
    "\n",
    "## Example\n",
    "\n",
    "Input: \n",
    "\n",
    "Transactions table:\n",
    "| id   | country | state    | amount | trans_date |\n",
    "|------|---------|----------|--------|------------|\n",
    "| 121  | US      | approved | 1000   | 2018-12-18 |\n",
    "| 122  | US      | declined | 2000   | 2018-12-19 |\n",
    "| 123  | US      | approved | 2000   | 2019-01-01 |\n",
    "| 124  | DE      | approved | 2000   | 2019-01-07 |\n",
    "\n",
    "Output: \n",
    "| month    | country | trans_count | approved_count | trans_total_amount | approved_total_amount |\n",
    "|----------|---------|-------------|----------------|--------------------|-----------------------|\n",
    "| 2018-12  | US      | 2           | 1              | 3000               | 1000                  |\n",
    "| 2019-01  | US      | 1           | 1              | 2000               | 2000                  |\n",
    "| 2019-01  | DE      | 1           | 1              | 2000               | 2000                  |\n"
   ]
  },
  {
   "cell_type": "markdown",
   "metadata": {},
   "source": [
    "## Importing"
   ]
  },
  {
   "cell_type": "code",
   "execution_count": 1,
   "metadata": {},
   "outputs": [],
   "source": [
    "import pandas as pd\n",
    "from pandasql import sqldf"
   ]
  },
  {
   "cell_type": "markdown",
   "metadata": {},
   "source": [
    "## Define Schema"
   ]
  },
  {
   "cell_type": "code",
   "execution_count": 2,
   "metadata": {},
   "outputs": [
    {
     "data": {
      "text/html": [
       "<div>\n",
       "<style scoped>\n",
       "    .dataframe tbody tr th:only-of-type {\n",
       "        vertical-align: middle;\n",
       "    }\n",
       "\n",
       "    .dataframe tbody tr th {\n",
       "        vertical-align: top;\n",
       "    }\n",
       "\n",
       "    .dataframe thead th {\n",
       "        text-align: right;\n",
       "    }\n",
       "</style>\n",
       "<table border=\"1\" class=\"dataframe\">\n",
       "  <thead>\n",
       "    <tr style=\"text-align: right;\">\n",
       "      <th></th>\n",
       "      <th>id</th>\n",
       "      <th>country</th>\n",
       "      <th>state</th>\n",
       "      <th>amount</th>\n",
       "      <th>trans_date</th>\n",
       "    </tr>\n",
       "  </thead>\n",
       "  <tbody>\n",
       "    <tr>\n",
       "      <th>0</th>\n",
       "      <td>121</td>\n",
       "      <td>US</td>\n",
       "      <td>approved</td>\n",
       "      <td>1000</td>\n",
       "      <td>2018-12-18</td>\n",
       "    </tr>\n",
       "    <tr>\n",
       "      <th>1</th>\n",
       "      <td>122</td>\n",
       "      <td>US</td>\n",
       "      <td>declined</td>\n",
       "      <td>2000</td>\n",
       "      <td>2018-12-19</td>\n",
       "    </tr>\n",
       "    <tr>\n",
       "      <th>2</th>\n",
       "      <td>123</td>\n",
       "      <td>US</td>\n",
       "      <td>approved</td>\n",
       "      <td>2000</td>\n",
       "      <td>2019-01-01</td>\n",
       "    </tr>\n",
       "    <tr>\n",
       "      <th>3</th>\n",
       "      <td>124</td>\n",
       "      <td>DE</td>\n",
       "      <td>approved</td>\n",
       "      <td>2000</td>\n",
       "      <td>2019-01-07</td>\n",
       "    </tr>\n",
       "  </tbody>\n",
       "</table>\n",
       "</div>"
      ],
      "text/plain": [
       "    id country     state  amount trans_date\n",
       "0  121      US  approved    1000 2018-12-18\n",
       "1  122      US  declined    2000 2018-12-19\n",
       "2  123      US  approved    2000 2019-01-01\n",
       "3  124      DE  approved    2000 2019-01-07"
      ]
     },
     "execution_count": 2,
     "metadata": {},
     "output_type": "execute_result"
    }
   ],
   "source": [
    "data = {\n",
    "    'id': [121, 122, 123, 124],\n",
    "    'country': ['US', 'US', 'US', 'DE'],\n",
    "    'state': ['approved', 'declined', 'approved', 'approved'],\n",
    "    'amount': [1000, 2000, 2000, 2000],\n",
    "    'trans_date': [\n",
    "        '2018-12-18',\n",
    "        '2018-12-19',\n",
    "        '2019-01-01',\n",
    "        '2019-01-07'\n",
    "    ]\n",
    "}\n",
    "\n",
    "Transactions = pd.DataFrame(data)\n",
    "Transactions['trans_date'] = pd.to_datetime(Transactions['trans_date'])\n",
    "\n",
    "Transactions"
   ]
  },
  {
   "cell_type": "markdown",
   "metadata": {},
   "source": [
    "## Task"
   ]
  },
  {
   "cell_type": "code",
   "execution_count": 5,
   "metadata": {},
   "outputs": [
    {
     "data": {
      "text/html": [
       "<div>\n",
       "<style scoped>\n",
       "    .dataframe tbody tr th:only-of-type {\n",
       "        vertical-align: middle;\n",
       "    }\n",
       "\n",
       "    .dataframe tbody tr th {\n",
       "        vertical-align: top;\n",
       "    }\n",
       "\n",
       "    .dataframe thead th {\n",
       "        text-align: right;\n",
       "    }\n",
       "</style>\n",
       "<table border=\"1\" class=\"dataframe\">\n",
       "  <thead>\n",
       "    <tr style=\"text-align: right;\">\n",
       "      <th></th>\n",
       "      <th>month</th>\n",
       "      <th>country</th>\n",
       "      <th>trans_count</th>\n",
       "      <th>approved_count</th>\n",
       "      <th>trans_total_amount</th>\n",
       "      <th>approved_total_amount</th>\n",
       "    </tr>\n",
       "  </thead>\n",
       "  <tbody>\n",
       "    <tr>\n",
       "      <th>0</th>\n",
       "      <td>2018-12</td>\n",
       "      <td>US</td>\n",
       "      <td>2</td>\n",
       "      <td>1</td>\n",
       "      <td>3000</td>\n",
       "      <td>1000</td>\n",
       "    </tr>\n",
       "    <tr>\n",
       "      <th>1</th>\n",
       "      <td>2019-01</td>\n",
       "      <td>DE</td>\n",
       "      <td>1</td>\n",
       "      <td>1</td>\n",
       "      <td>2000</td>\n",
       "      <td>2000</td>\n",
       "    </tr>\n",
       "    <tr>\n",
       "      <th>2</th>\n",
       "      <td>2019-01</td>\n",
       "      <td>US</td>\n",
       "      <td>1</td>\n",
       "      <td>1</td>\n",
       "      <td>2000</td>\n",
       "      <td>2000</td>\n",
       "    </tr>\n",
       "  </tbody>\n",
       "</table>\n",
       "</div>"
      ],
      "text/plain": [
       "     month country  trans_count  approved_count  trans_total_amount  \\\n",
       "0  2018-12      US            2               1                3000   \n",
       "1  2019-01      DE            1               1                2000   \n",
       "2  2019-01      US            1               1                2000   \n",
       "\n",
       "   approved_total_amount  \n",
       "0                   1000  \n",
       "1                   2000  \n",
       "2                   2000  "
      ]
     },
     "metadata": {},
     "output_type": "display_data"
    }
   ],
   "source": [
    "# Define the SQL query\n",
    "query = \"\"\"\n",
    "SELECT \n",
    "    strftime('%Y-%m', trans_date) AS month,\n",
    "    country,\n",
    "    COUNT(*) AS trans_count,\n",
    "    SUM(CASE WHEN state = 'approved' THEN 1 ELSE 0 END) AS approved_count,\n",
    "    SUM(amount) AS trans_total_amount,\n",
    "    SUM(CASE WHEN state = 'approved' THEN amount ELSE 0 END) AS approved_total_amount\n",
    "FROM Transactions\n",
    "GROUP BY month, country\n",
    ";\n",
    "\"\"\"\n",
    "\n",
    "# Excute the query using pandasql\n",
    "result = sqldf(query, env={'Transactions':Transactions})\n",
    "\n",
    "# Display the result dataframe\n",
    "display(result)"
   ]
  },
  {
   "cell_type": "code",
   "execution_count": 7,
   "metadata": {},
   "outputs": [
    {
     "data": {
      "text/plain": [
       "\"\\nSELECT \\n    DATE_FORMAT(trans_date, '%Y-%m') AS month,\\n    country,\\n    COUNT(*) AS trans_count,\\n    SUM(CASE WHEN state = 'approved' THEN 1 ELSE 0 END) AS approved_count,\\n    SUM(amount) AS trans_total_amount,\\n    SUM(CASE WHEN state = 'approved' THEN amount ELSE 0 END) AS approved_total_amount\\nFROM Transactions\\nGROUP BY month, country\\n;\\n\""
      ]
     },
     "execution_count": 7,
     "metadata": {},
     "output_type": "execute_result"
    }
   ],
   "source": [
    "## For MYSQL submission: \n",
    "\"\"\"\n",
    "SELECT \n",
    "    DATE_FORMAT(trans_date, '%Y-%m') AS month,\n",
    "    country,\n",
    "    COUNT(*) AS trans_count,\n",
    "    SUM(CASE WHEN state = 'approved' THEN 1 ELSE 0 END) AS approved_count,\n",
    "    SUM(amount) AS trans_total_amount,\n",
    "    SUM(CASE WHEN state = 'approved' THEN amount ELSE 0 END) AS approved_total_amount\n",
    "FROM Transactions\n",
    "GROUP BY month, country\n",
    ";\n",
    "\"\"\""
   ]
  },
  {
   "cell_type": "code",
   "execution_count": null,
   "metadata": {},
   "outputs": [],
   "source": []
  }
 ],
 "metadata": {
  "kernelspec": {
   "display_name": "Python 3",
   "language": "python",
   "name": "python3"
  },
  "language_info": {
   "codemirror_mode": {
    "name": "ipython",
    "version": 3
   },
   "file_extension": ".py",
   "mimetype": "text/x-python",
   "name": "python",
   "nbconvert_exporter": "python",
   "pygments_lexer": "ipython3",
   "version": "3.10.12"
  },
  "orig_nbformat": 4
 },
 "nbformat": 4,
 "nbformat_minor": 2
}
