{
 "cells": [
  {
   "cell_type": "markdown",
   "metadata": {},
   "source": [
    "# LEET CODE\n",
    "## Problem-2885: Rename Columns\n",
    "Class: Easy\n",
    "\n",
    "Source: https://leetcode.com/problems/rename-columns/\n",
    "\n",
    "## Description\n",
    "DataFrame students\n",
    "| Column Name | Type   |\n",
    "|-------------|--------|\n",
    "| id          | int    |\n",
    "| first       | object |\n",
    "| last        | object |\n",
    "| age         | int    |\n",
    "\n",
    "## To Do\n",
    "Write a solution to rename the columns as follows:\n",
    "\n",
    "- id to student_id\n",
    "- first to first_name\n",
    "- last to last_name\n",
    "- age to age_in_years\n",
    "\n",
    "The result format is in the following example.\n",
    "\n",
    "\n",
    "## Example\n",
    "\n",
    "Input:\n",
    "| id | first   | last     | age |\n",
    "|----|---------|----------|-----|\n",
    "| 1  | Mason   | King     | 6   |\n",
    "| 2  | Ava     | Wright   | 7   |\n",
    "| 3  | Taylor  | Hall     | 16  |\n",
    "| 4  | Georgia | Thompson | 18  |\n",
    "| 5  | Thomas  | Moore    | 10  |\n",
    "\n",
    "Output:\n",
    "| student_id | first_name | last_name | age_in_years |\n",
    "|------------|------------|-----------|--------------|\n",
    "| 1          | Mason      | King      | 6            |\n",
    "| 2          | Ava        | Wright    | 7            |\n",
    "| 3          | Taylor     | Hall      | 16           |\n",
    "| 4          | Georgia    | Thompson  | 18           |\n",
    "| 5          | Thomas     | Moore     | 10           |\n",
    "\n",
    "Explanation: \n",
    "- The column names are changed accordingly.\n"
   ]
  },
  {
   "cell_type": "markdown",
   "metadata": {},
   "source": [
    "## Importing"
   ]
  },
  {
   "cell_type": "code",
   "execution_count": 1,
   "metadata": {},
   "outputs": [],
   "source": [
    "import pandas as pd\n",
    "from typing import List"
   ]
  },
  {
   "cell_type": "markdown",
   "metadata": {},
   "source": [
    "## Task"
   ]
  },
  {
   "cell_type": "code",
   "execution_count": 2,
   "metadata": {},
   "outputs": [],
   "source": [
    "def renameColumns(students: pd.DataFrame) -> pd.DataFrame:\n",
    "    return students.rename(columns={\n",
    "        'id':'student_id',\n",
    "        'first':'first_name',\n",
    "        'last':'last_name',\n",
    "        'age':'age_in_years'\n",
    "    })"
   ]
  },
  {
   "cell_type": "code",
   "execution_count": 3,
   "metadata": {},
   "outputs": [
    {
     "data": {
      "text/html": [
       "<div>\n",
       "<style scoped>\n",
       "    .dataframe tbody tr th:only-of-type {\n",
       "        vertical-align: middle;\n",
       "    }\n",
       "\n",
       "    .dataframe tbody tr th {\n",
       "        vertical-align: top;\n",
       "    }\n",
       "\n",
       "    .dataframe thead th {\n",
       "        text-align: right;\n",
       "    }\n",
       "</style>\n",
       "<table border=\"1\" class=\"dataframe\">\n",
       "  <thead>\n",
       "    <tr style=\"text-align: right;\">\n",
       "      <th></th>\n",
       "      <th>student_id</th>\n",
       "      <th>first_name</th>\n",
       "      <th>last_name</th>\n",
       "      <th>age_in_years</th>\n",
       "    </tr>\n",
       "  </thead>\n",
       "  <tbody>\n",
       "    <tr>\n",
       "      <th>0</th>\n",
       "      <td>1</td>\n",
       "      <td>Mason</td>\n",
       "      <td>King</td>\n",
       "      <td>6</td>\n",
       "    </tr>\n",
       "    <tr>\n",
       "      <th>1</th>\n",
       "      <td>2</td>\n",
       "      <td>Ava</td>\n",
       "      <td>Wright</td>\n",
       "      <td>7</td>\n",
       "    </tr>\n",
       "    <tr>\n",
       "      <th>2</th>\n",
       "      <td>3</td>\n",
       "      <td>Taylor</td>\n",
       "      <td>Hall</td>\n",
       "      <td>16</td>\n",
       "    </tr>\n",
       "    <tr>\n",
       "      <th>3</th>\n",
       "      <td>4</td>\n",
       "      <td>Georgia</td>\n",
       "      <td>Thompson</td>\n",
       "      <td>18</td>\n",
       "    </tr>\n",
       "    <tr>\n",
       "      <th>4</th>\n",
       "      <td>5</td>\n",
       "      <td>Thomas</td>\n",
       "      <td>Moore</td>\n",
       "      <td>10</td>\n",
       "    </tr>\n",
       "  </tbody>\n",
       "</table>\n",
       "</div>"
      ],
      "text/plain": [
       "   student_id first_name last_name  age_in_years\n",
       "0           1      Mason      King             6\n",
       "1           2        Ava    Wright             7\n",
       "2           3     Taylor      Hall            16\n",
       "3           4    Georgia  Thompson            18\n",
       "4           5     Thomas     Moore            10"
      ]
     },
     "execution_count": 3,
     "metadata": {},
     "output_type": "execute_result"
    }
   ],
   "source": [
    "data = {\n",
    "    'id': [1, 2, 3, 4, 5],\n",
    "    'first': ['Mason', 'Ava', 'Taylor', 'Georgia', 'Thomas'],\n",
    "    'last': ['King', 'Wright', 'Hall', 'Thompson', 'Moore'],\n",
    "    'age': [6, 7, 16, 18, 10]\n",
    "}\n",
    "df = pd.DataFrame(data)\n",
    "\n",
    "renameColumns(df)"
   ]
  },
  {
   "cell_type": "code",
   "execution_count": null,
   "metadata": {},
   "outputs": [],
   "source": []
  }
 ],
 "metadata": {
  "kernelspec": {
   "display_name": "Python 3",
   "language": "python",
   "name": "python3"
  },
  "language_info": {
   "codemirror_mode": {
    "name": "ipython",
    "version": 3
   },
   "file_extension": ".py",
   "mimetype": "text/x-python",
   "name": "python",
   "nbconvert_exporter": "python",
   "pygments_lexer": "ipython3",
   "version": "3.10.12"
  },
  "orig_nbformat": 4
 },
 "nbformat": 4,
 "nbformat_minor": 2
}
