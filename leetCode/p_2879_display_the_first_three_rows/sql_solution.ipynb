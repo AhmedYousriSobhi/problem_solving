{
 "cells": [
  {
   "cell_type": "markdown",
   "metadata": {},
   "source": [
    "# LEET CODE\n",
    "## Problem-2879: Display the First Three Rows\n",
    "Class: Easy\n",
    "\n",
    "Source: https://leetcode.com/problems/display-the-first-three-rows/\n",
    "\n",
    "## Description\n",
    "DataFrame: employees\n",
    "\n",
    "| Column Name | Type   |\n",
    "|-------------|--------|\n",
    "| employee_id | int    |\n",
    "| name        | object |\n",
    "| department  | object |\n",
    "| salary      | int    |\n",
    "\n",
    "Write a solution to display the first 3 rows of this DataFrame.\n",
    "\n",
    "## Example\n",
    "\n",
    "Input:\n",
    "\n",
    "DataFrame employees\n",
    "\n",
    "| employee_id | name      | department            | salary |\n",
    "|-------------|-----------|-----------------------|--------|\n",
    "| 3           | Bob       | Operations            | 48675  |\n",
    "| 90          | Alice     | Sales                 | 11096  |\n",
    "| 9           | Tatiana   | Engineering           | 33805  |\n",
    "| 60          | Annabelle | InformationTechnology | 37678  |\n",
    "| 49          | Jonathan  | HumanResources        | 23793  |\n",
    "| 43          | Khaled    | Administration        | 40454  |\n",
    "\n",
    "Output:\n",
    "\n",
    "| employee_id | name    | department  | salary |\n",
    "|-------------|---------|-------------|--------|\n",
    "| 3           | Bob     | Operations  | 48675  |\n",
    "| 90          | Alice   | Sales       | 11096  |\n",
    "| 9           | Tatiana | Engineering | 33805  |\n",
    "\n",
    "Explanation: \n",
    "- Only the first 3 rows are displayed.\n",
    "\n"
   ]
  },
  {
   "cell_type": "markdown",
   "metadata": {},
   "source": [
    "## Importing"
   ]
  },
  {
   "cell_type": "code",
   "execution_count": 1,
   "metadata": {},
   "outputs": [],
   "source": [
    "import pandas as pd\n",
    "from typing import List"
   ]
  },
  {
   "cell_type": "markdown",
   "metadata": {},
   "source": [
    "## Task"
   ]
  },
  {
   "cell_type": "code",
   "execution_count": 2,
   "metadata": {},
   "outputs": [],
   "source": [
    "def selectFirstRows(employees: pd.DataFrame) -> pd.DataFrame:\n",
    "    return employees.head(3)"
   ]
  },
  {
   "cell_type": "code",
   "execution_count": 3,
   "metadata": {},
   "outputs": [
    {
     "data": {
      "text/html": [
       "<div>\n",
       "<style scoped>\n",
       "    .dataframe tbody tr th:only-of-type {\n",
       "        vertical-align: middle;\n",
       "    }\n",
       "\n",
       "    .dataframe tbody tr th {\n",
       "        vertical-align: top;\n",
       "    }\n",
       "\n",
       "    .dataframe thead th {\n",
       "        text-align: right;\n",
       "    }\n",
       "</style>\n",
       "<table border=\"1\" class=\"dataframe\">\n",
       "  <thead>\n",
       "    <tr style=\"text-align: right;\">\n",
       "      <th></th>\n",
       "      <th>0</th>\n",
       "      <th>1</th>\n",
       "    </tr>\n",
       "  </thead>\n",
       "  <tbody>\n",
       "    <tr>\n",
       "      <th>0</th>\n",
       "      <td>1</td>\n",
       "      <td>2</td>\n",
       "    </tr>\n",
       "    <tr>\n",
       "      <th>1</th>\n",
       "      <td>1</td>\n",
       "      <td>2</td>\n",
       "    </tr>\n",
       "    <tr>\n",
       "      <th>2</th>\n",
       "      <td>1</td>\n",
       "      <td>3</td>\n",
       "    </tr>\n",
       "  </tbody>\n",
       "</table>\n",
       "</div>"
      ],
      "text/plain": [
       "   0  1\n",
       "0  1  2\n",
       "1  1  2\n",
       "2  1  3"
      ]
     },
     "execution_count": 3,
     "metadata": {},
     "output_type": "execute_result"
    }
   ],
   "source": [
    "data = [[1, 2], [1, 2], [1, 3], [2, 1], [2, 2], [2, 1], [2, 1]]\n",
    "\n",
    "selectFirstRows(pd.DataFrame(data))"
   ]
  },
  {
   "cell_type": "code",
   "execution_count": null,
   "metadata": {},
   "outputs": [],
   "source": []
  },
  {
   "cell_type": "code",
   "execution_count": null,
   "metadata": {},
   "outputs": [],
   "source": []
  }
 ],
 "metadata": {
  "kernelspec": {
   "display_name": "Python 3",
   "language": "python",
   "name": "python3"
  },
  "language_info": {
   "codemirror_mode": {
    "name": "ipython",
    "version": 3
   },
   "file_extension": ".py",
   "mimetype": "text/x-python",
   "name": "python",
   "nbconvert_exporter": "python",
   "pygments_lexer": "ipython3",
   "version": "3.10.12"
  },
  "orig_nbformat": 4
 },
 "nbformat": 4,
 "nbformat_minor": 2
}
