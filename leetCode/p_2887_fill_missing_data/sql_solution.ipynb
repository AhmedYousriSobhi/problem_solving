{
 "cells": [
  {
   "cell_type": "markdown",
   "metadata": {},
   "source": [
    "# LEET CODE\n",
    "## Problem-2887: Fill Missing Data\n",
    "Class: Easy\n",
    "\n",
    "Source: https://leetcode.com/problems/fill_missing_data/\n",
    "\n",
    "## Description\n",
    "DataFrame products\n",
    "| Column Name | Type   |\n",
    "|-------------|--------|\n",
    "| name        | object |\n",
    "| quantity    | int    |\n",
    "| price       | int    |\n",
    "\n",
    "## To Do\n",
    "Write a solution to fill in the missing value as 0 in the quantity column.\n",
    "\n",
    "The result format is in the following example.\n",
    "\n",
    "## Example\n",
    "Input:\n",
    "| name            | quantity | price |\n",
    "|-----------------|----------|-------|\n",
    "| Wristwatch      | 32       | 135   |\n",
    "| WirelessEarbuds | None     | 821   |\n",
    "| GolfClubs       | None     | 9319  |\n",
    "| Printer         | 849      | 3051  |\n",
    "\n",
    "Output:\n",
    "| name            | quantity | price |\n",
    "|-----------------|----------|-------|\n",
    "| Wristwatch      | 32       | 135   |\n",
    "| WirelessEarbuds | 0        | 821   |\n",
    "| GolfClubs       | 0        | 9319  |\n",
    "| Printer         | 849      | 3051  |\n",
    "\n",
    "Explanation: \n",
    "- The quantity for Toaster and Headphones are filled by 0.\n"
   ]
  },
  {
   "cell_type": "markdown",
   "metadata": {},
   "source": [
    "## Importing"
   ]
  },
  {
   "cell_type": "code",
   "execution_count": 4,
   "metadata": {},
   "outputs": [],
   "source": [
    "import pandas as pd, numpy as np\n",
    "from typing import List"
   ]
  },
  {
   "cell_type": "markdown",
   "metadata": {},
   "source": [
    "## Task"
   ]
  },
  {
   "cell_type": "code",
   "execution_count": 5,
   "metadata": {},
   "outputs": [],
   "source": [
    "def fillMissingValues(products: pd.DataFrame) -> pd.DataFrame:\n",
    "    return products.assign(quantity = products.quantity.fillna(0))"
   ]
  },
  {
   "cell_type": "code",
   "execution_count": 6,
   "metadata": {},
   "outputs": [
    {
     "data": {
      "text/html": [
       "<div>\n",
       "<style scoped>\n",
       "    .dataframe tbody tr th:only-of-type {\n",
       "        vertical-align: middle;\n",
       "    }\n",
       "\n",
       "    .dataframe tbody tr th {\n",
       "        vertical-align: top;\n",
       "    }\n",
       "\n",
       "    .dataframe thead th {\n",
       "        text-align: right;\n",
       "    }\n",
       "</style>\n",
       "<table border=\"1\" class=\"dataframe\">\n",
       "  <thead>\n",
       "    <tr style=\"text-align: right;\">\n",
       "      <th></th>\n",
       "      <th>name</th>\n",
       "      <th>quantity</th>\n",
       "      <th>price</th>\n",
       "    </tr>\n",
       "  </thead>\n",
       "  <tbody>\n",
       "    <tr>\n",
       "      <th>0</th>\n",
       "      <td>Wristwatch</td>\n",
       "      <td>32.0</td>\n",
       "      <td>135</td>\n",
       "    </tr>\n",
       "    <tr>\n",
       "      <th>1</th>\n",
       "      <td>WirelessEarbuds</td>\n",
       "      <td>0.0</td>\n",
       "      <td>821</td>\n",
       "    </tr>\n",
       "    <tr>\n",
       "      <th>2</th>\n",
       "      <td>GolfClubs</td>\n",
       "      <td>0.0</td>\n",
       "      <td>9319</td>\n",
       "    </tr>\n",
       "    <tr>\n",
       "      <th>3</th>\n",
       "      <td>Printer</td>\n",
       "      <td>849.0</td>\n",
       "      <td>3051</td>\n",
       "    </tr>\n",
       "  </tbody>\n",
       "</table>\n",
       "</div>"
      ],
      "text/plain": [
       "              name  quantity  price\n",
       "0       Wristwatch      32.0    135\n",
       "1  WirelessEarbuds       0.0    821\n",
       "2        GolfClubs       0.0   9319\n",
       "3          Printer     849.0   3051"
      ]
     },
     "execution_count": 6,
     "metadata": {},
     "output_type": "execute_result"
    }
   ],
   "source": [
    "data = {\n",
    "    'name': ['Wristwatch', 'WirelessEarbuds', 'GolfClubs', 'Printer'],\n",
    "    'quantity': [32, np.nan, np.nan, 849],\n",
    "    'price': [135, 821, 9319, 3051]\n",
    "}\n",
    "\n",
    "df = pd.DataFrame(data)\n",
    "\n",
    "fillMissingValues(df)"
   ]
  },
  {
   "cell_type": "code",
   "execution_count": null,
   "metadata": {},
   "outputs": [],
   "source": []
  }
 ],
 "metadata": {
  "kernelspec": {
   "display_name": "Python 3",
   "language": "python",
   "name": "python3"
  },
  "language_info": {
   "codemirror_mode": {
    "name": "ipython",
    "version": 3
   },
   "file_extension": ".py",
   "mimetype": "text/x-python",
   "name": "python",
   "nbconvert_exporter": "python",
   "pygments_lexer": "ipython3",
   "version": "3.10.12"
  },
  "orig_nbformat": 4
 },
 "nbformat": 4,
 "nbformat_minor": 2
}
