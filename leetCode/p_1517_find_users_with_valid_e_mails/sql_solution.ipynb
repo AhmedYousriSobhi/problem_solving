{
 "cells": [
  {
   "cell_type": "markdown",
   "metadata": {},
   "source": [
    "# LEET CODE\n",
    "## Problem-1517: Find Users With Valid E-mails\n",
    "Class: Easy\n",
    "\n",
    "Source: https://leetcode.com/problems/find-users-with-valid-e-mails\n",
    "\n",
    "## Description\n",
    "Table: Users\n",
    "\n",
    "| Column Name   | Type    |\n",
    "|---------------|---------|\n",
    "| user_id       | int     |\n",
    "| name          | varchar |\n",
    "| mail          | varchar |\n",
    "\n",
    "- user_id is the primary key (column with unique values) for this table.\n",
    "- This table contains information of the users signed up in a website. Some e-mails are invalid.\n",
    "\n",
    "## To Do\n",
    "Write a solution to find the users who have valid emails.\n",
    "\n",
    "A valid e-mail has a prefix name and a domain where:\n",
    "\n",
    "    The prefix name is a string that may contain letters (upper or lower case), digits, underscore '_', period '.', and/or dash '-'. The prefix name must start with a letter.\n",
    "    The domain is '@leetcode.com'.\n",
    "\n",
    "Return the result table in any order.\n",
    "\n",
    "The result format is in the following example.\n",
    "\n",
    "## Example\n",
    "\n",
    "Input: \n",
    "\n",
    "Users table:\n",
    "| user_id | name      | mail                    |\n",
    "|---------|-----------|-------------------------|\n",
    "| 1       | Winston   | winston@leetcode.com    |\n",
    "| 2       | Jonathan  | jonathanisgreat         |\n",
    "| 3       | Annabelle | bella-@leetcode.com     |\n",
    "| 4       | Sally     | sally.come@leetcode.com |\n",
    "| 5       | Marwan    | quarz#2020@leetcode.com |\n",
    "| 6       | David     | david69@gmail.com       |\n",
    "| 7       | Shapiro   | .shapo@leetcode.com     |\n",
    "\n",
    "Output: \n",
    "| user_id | name      | mail                    |\n",
    "|---------|-----------|-------------------------|\n",
    "| 1       | Winston   | winston@leetcode.com    |\n",
    "| 3       | Annabelle | bella-@leetcode.com     |\n",
    "| 4       | Sally     | sally.come@leetcode.com |\n",
    "\n",
    "Explanation: \n",
    "- The mail of user 2 does not have a domain.\n",
    "- The mail of user 5 has the # sign which is not allowed.\n",
    "- The mail of user 6 does not have the leetcode domain.\n",
    "- The mail of user 7 starts with a period.\n"
   ]
  },
  {
   "cell_type": "markdown",
   "metadata": {},
   "source": [
    "## Importing"
   ]
  },
  {
   "cell_type": "code",
   "execution_count": 1,
   "metadata": {},
   "outputs": [],
   "source": [
    "import pandas as pd\n",
    "from pandasql import sqldf"
   ]
  },
  {
   "cell_type": "markdown",
   "metadata": {},
   "source": [
    "## Define Schema"
   ]
  },
  {
   "cell_type": "code",
   "execution_count": 2,
   "metadata": {},
   "outputs": [
    {
     "data": {
      "text/html": [
       "<div>\n",
       "<style scoped>\n",
       "    .dataframe tbody tr th:only-of-type {\n",
       "        vertical-align: middle;\n",
       "    }\n",
       "\n",
       "    .dataframe tbody tr th {\n",
       "        vertical-align: top;\n",
       "    }\n",
       "\n",
       "    .dataframe thead th {\n",
       "        text-align: right;\n",
       "    }\n",
       "</style>\n",
       "<table border=\"1\" class=\"dataframe\">\n",
       "  <thead>\n",
       "    <tr style=\"text-align: right;\">\n",
       "      <th></th>\n",
       "      <th>user_id</th>\n",
       "      <th>name</th>\n",
       "      <th>mail</th>\n",
       "    </tr>\n",
       "  </thead>\n",
       "  <tbody>\n",
       "    <tr>\n",
       "      <th>0</th>\n",
       "      <td>1</td>\n",
       "      <td>Winston</td>\n",
       "      <td>winston@leetcode.com</td>\n",
       "    </tr>\n",
       "    <tr>\n",
       "      <th>1</th>\n",
       "      <td>2</td>\n",
       "      <td>Jonathan</td>\n",
       "      <td>jonathanisgreat</td>\n",
       "    </tr>\n",
       "    <tr>\n",
       "      <th>2</th>\n",
       "      <td>3</td>\n",
       "      <td>Annabelle</td>\n",
       "      <td>bella-@leetcode.com</td>\n",
       "    </tr>\n",
       "    <tr>\n",
       "      <th>3</th>\n",
       "      <td>4</td>\n",
       "      <td>Sally</td>\n",
       "      <td>sally.come@leetcode.com</td>\n",
       "    </tr>\n",
       "    <tr>\n",
       "      <th>4</th>\n",
       "      <td>5</td>\n",
       "      <td>Marwan</td>\n",
       "      <td>quarz#2020@leetcode.com</td>\n",
       "    </tr>\n",
       "    <tr>\n",
       "      <th>5</th>\n",
       "      <td>6</td>\n",
       "      <td>David</td>\n",
       "      <td>david69@gmail.com</td>\n",
       "    </tr>\n",
       "    <tr>\n",
       "      <th>6</th>\n",
       "      <td>7</td>\n",
       "      <td>Shapiro</td>\n",
       "      <td>.shapo@leetcode.com</td>\n",
       "    </tr>\n",
       "  </tbody>\n",
       "</table>\n",
       "</div>"
      ],
      "text/plain": [
       "   user_id       name                     mail\n",
       "0        1    Winston     winston@leetcode.com\n",
       "1        2   Jonathan          jonathanisgreat\n",
       "2        3  Annabelle      bella-@leetcode.com\n",
       "3        4      Sally  sally.come@leetcode.com\n",
       "4        5     Marwan  quarz#2020@leetcode.com\n",
       "5        6      David        david69@gmail.com\n",
       "6        7    Shapiro      .shapo@leetcode.com"
      ]
     },
     "execution_count": 2,
     "metadata": {},
     "output_type": "execute_result"
    }
   ],
   "source": [
    "data = [[1, 'Winston', 'winston@leetcode.com'], [2, 'Jonathan', 'jonathanisgreat'], [3, 'Annabelle', 'bella-@leetcode.com'], [4, 'Sally', 'sally.come@leetcode.com'], [5, 'Marwan', 'quarz#2020@leetcode.com'], [6, 'David', 'david69@gmail.com'], [7, 'Shapiro', '.shapo@leetcode.com']]\n",
    "Users = pd.DataFrame(data, columns=['user_id', 'name', 'mail']).astype({'user_id':'int64', 'name':'object', 'mail':'object'})\n",
    "\n",
    "Users"
   ]
  },
  {
   "cell_type": "markdown",
   "metadata": {},
   "source": [
    "## Task"
   ]
  },
  {
   "cell_type": "code",
   "execution_count": 17,
   "metadata": {},
   "outputs": [
    {
     "data": {
      "text/html": [
       "<div>\n",
       "<style scoped>\n",
       "    .dataframe tbody tr th:only-of-type {\n",
       "        vertical-align: middle;\n",
       "    }\n",
       "\n",
       "    .dataframe tbody tr th {\n",
       "        vertical-align: top;\n",
       "    }\n",
       "\n",
       "    .dataframe thead th {\n",
       "        text-align: right;\n",
       "    }\n",
       "</style>\n",
       "<table border=\"1\" class=\"dataframe\">\n",
       "  <thead>\n",
       "    <tr style=\"text-align: right;\">\n",
       "      <th></th>\n",
       "      <th>user_id</th>\n",
       "      <th>name</th>\n",
       "      <th>mail</th>\n",
       "    </tr>\n",
       "  </thead>\n",
       "  <tbody>\n",
       "    <tr>\n",
       "      <th>0</th>\n",
       "      <td>1</td>\n",
       "      <td>Winston</td>\n",
       "      <td>winston@leetcode.com</td>\n",
       "    </tr>\n",
       "    <tr>\n",
       "      <th>1</th>\n",
       "      <td>3</td>\n",
       "      <td>Annabelle</td>\n",
       "      <td>bella-@leetcode.com</td>\n",
       "    </tr>\n",
       "    <tr>\n",
       "      <th>2</th>\n",
       "      <td>4</td>\n",
       "      <td>Sally</td>\n",
       "      <td>sally.come@leetcode.com</td>\n",
       "    </tr>\n",
       "  </tbody>\n",
       "</table>\n",
       "</div>"
      ],
      "text/plain": [
       "   user_id       name                     mail\n",
       "0        1    Winston     winston@leetcode.com\n",
       "1        3  Annabelle      bella-@leetcode.com\n",
       "2        4      Sally  sally.come@leetcode.com"
      ]
     },
     "metadata": {},
     "output_type": "display_data"
    }
   ],
   "source": [
    "# Define the SQL query\n",
    "query = \"\"\"\n",
    "SELECT user_id, name, mail\n",
    "FROM Users\n",
    "WHERE mail REGEXP '^[A-Za-z][A-Za-z0-9_\\.\\-]*@leetcode(\\\\?com)?\\\\.com$'\n",
    "\"\"\"\n",
    "\n",
    "# Excute the query using pandasql\n",
    "result = sqldf(query, env={'Users':Users})\n",
    "\n",
    "# Display the result dataframe\n",
    "display(result)"
   ]
  },
  {
   "cell_type": "markdown",
   "metadata": {},
   "source": [
    "    ^[A-Za-z]: This part matches the start of the string and ensures that the email address starts with a letter (uppercase or lowercase).\n",
    "\n",
    "    [A-Za-z0-9_\\.\\-]*: This part matches zero or more occurrences of letters, digits, underscores '_', periods '.', or dashes '-' in the email address.\n",
    "\n",
    "    @leetcode: This part matches the literal string \"@leetcode\".\n",
    "\n",
    "    (\\\\?com)?: This is an optional group enclosed in parentheses. It matches the literal string \"?com\" if it appears. The double backslashes are used to escape the question mark.\n",
    "\n",
    "    \\\\.com: This part matches the literal string \".com\".\n",
    "\n",
    "    $: This matches the end of the string."
   ]
  },
  {
   "cell_type": "code",
   "execution_count": null,
   "metadata": {},
   "outputs": [],
   "source": []
  }
 ],
 "metadata": {
  "kernelspec": {
   "display_name": "Python 3",
   "language": "python",
   "name": "python3"
  },
  "language_info": {
   "codemirror_mode": {
    "name": "ipython",
    "version": 3
   },
   "file_extension": ".py",
   "mimetype": "text/x-python",
   "name": "python",
   "nbconvert_exporter": "python",
   "pygments_lexer": "ipython3",
   "version": "3.10.12"
  },
  "orig_nbformat": 4
 },
 "nbformat": 4,
 "nbformat_minor": 2
}
