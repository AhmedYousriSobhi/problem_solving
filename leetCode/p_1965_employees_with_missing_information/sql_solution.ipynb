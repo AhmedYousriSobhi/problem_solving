{
 "cells": [
  {
   "cell_type": "markdown",
   "metadata": {},
   "source": [
    "# LEET CODE\n",
    "## Program-1965: Employees With Missing Information\n",
    "Class: Easy\n",
    "\n",
    "Source: https://leetcode.com/problems/employees-with-missing-information/\n",
    "\n",
    "## Description\n",
    "Table: Employees\n",
    "| Column Name | Type    |\n",
    "|-------------|---------|\n",
    "| employee_id | int     |\n",
    "| name        | varchar |\n",
    "\n",
    "- employee_id is the column with unique values for this table.\n",
    "- Each row of this table indicates the name of the employee whose ID is employee_id.\n",
    " \n",
    "Table: Salaries\n",
    "| Column Name | Type    |\n",
    "|-------------|---------|\n",
    "| employee_id | int     |\n",
    "| salary      | int     |\n",
    "\n",
    "- employee_id is the column with unique values for this table.\n",
    "- Each row of this table indicates the salary of the employee whose ID is employee_id.\n",
    "\n",
    "## To Do\n",
    "Write a solution to report the IDs of all the employees with missing information. The information of an employee is missing if:\n",
    "\n",
    "    The employee's name is missing, or\n",
    "    The employee's salary is missing.\n",
    "\n",
    "Return the result table ordered by employee_id in ascending order.\n",
    "\n",
    "The result format is in the following example.\n",
    "\n",
    "## Example\n",
    "\n",
    "Input: \n",
    "\n",
    "Employees table:\n",
    "| employee_id | name     |\n",
    "|-------------|----------|\n",
    "| 2           | Crew     |\n",
    "| 4           | Haven    |\n",
    "| 5           | Kristian |\n",
    "\n",
    "Salaries table:\n",
    "| employee_id | salary |\n",
    "|-------------|--------|\n",
    "| 5           | 76071  |\n",
    "| 1           | 22517  |\n",
    "| 4           | 63539  |\n",
    "\n",
    "Output: \n",
    "| employee_id |\n",
    "|-------------|\n",
    "| 1           |\n",
    "| 2           |\n",
    "\n",
    "Explanation: \n",
    "- Employees 1, 2, 4, and 5 are working at this company.\n",
    "- The name of employee 1 is missing.\n",
    "- The salary of employee 2 is missing.\n"
   ]
  },
  {
   "cell_type": "markdown",
   "metadata": {},
   "source": [
    "## Importing"
   ]
  },
  {
   "cell_type": "code",
   "execution_count": 1,
   "metadata": {},
   "outputs": [],
   "source": [
    "import pandas as pd\n",
    "from pandasql import sqldf"
   ]
  },
  {
   "cell_type": "markdown",
   "metadata": {},
   "source": [
    "## Define Schema"
   ]
  },
  {
   "cell_type": "code",
   "execution_count": 2,
   "metadata": {},
   "outputs": [
    {
     "data": {
      "text/html": [
       "<div>\n",
       "<style scoped>\n",
       "    .dataframe tbody tr th:only-of-type {\n",
       "        vertical-align: middle;\n",
       "    }\n",
       "\n",
       "    .dataframe tbody tr th {\n",
       "        vertical-align: top;\n",
       "    }\n",
       "\n",
       "    .dataframe thead th {\n",
       "        text-align: right;\n",
       "    }\n",
       "</style>\n",
       "<table border=\"1\" class=\"dataframe\">\n",
       "  <thead>\n",
       "    <tr style=\"text-align: right;\">\n",
       "      <th></th>\n",
       "      <th>employee_id</th>\n",
       "      <th>name</th>\n",
       "    </tr>\n",
       "  </thead>\n",
       "  <tbody>\n",
       "    <tr>\n",
       "      <th>0</th>\n",
       "      <td>2</td>\n",
       "      <td>Crew</td>\n",
       "    </tr>\n",
       "    <tr>\n",
       "      <th>1</th>\n",
       "      <td>4</td>\n",
       "      <td>Haven</td>\n",
       "    </tr>\n",
       "    <tr>\n",
       "      <th>2</th>\n",
       "      <td>5</td>\n",
       "      <td>Kristian</td>\n",
       "    </tr>\n",
       "  </tbody>\n",
       "</table>\n",
       "</div>"
      ],
      "text/plain": [
       "   employee_id      name\n",
       "0            2      Crew\n",
       "1            4     Haven\n",
       "2            5  Kristian"
      ]
     },
     "metadata": {},
     "output_type": "display_data"
    },
    {
     "data": {
      "text/html": [
       "<div>\n",
       "<style scoped>\n",
       "    .dataframe tbody tr th:only-of-type {\n",
       "        vertical-align: middle;\n",
       "    }\n",
       "\n",
       "    .dataframe tbody tr th {\n",
       "        vertical-align: top;\n",
       "    }\n",
       "\n",
       "    .dataframe thead th {\n",
       "        text-align: right;\n",
       "    }\n",
       "</style>\n",
       "<table border=\"1\" class=\"dataframe\">\n",
       "  <thead>\n",
       "    <tr style=\"text-align: right;\">\n",
       "      <th></th>\n",
       "      <th>employee_id</th>\n",
       "      <th>salary</th>\n",
       "    </tr>\n",
       "  </thead>\n",
       "  <tbody>\n",
       "    <tr>\n",
       "      <th>0</th>\n",
       "      <td>5</td>\n",
       "      <td>76071</td>\n",
       "    </tr>\n",
       "    <tr>\n",
       "      <th>1</th>\n",
       "      <td>1</td>\n",
       "      <td>22517</td>\n",
       "    </tr>\n",
       "    <tr>\n",
       "      <th>2</th>\n",
       "      <td>4</td>\n",
       "      <td>63539</td>\n",
       "    </tr>\n",
       "  </tbody>\n",
       "</table>\n",
       "</div>"
      ],
      "text/plain": [
       "   employee_id  salary\n",
       "0            5   76071\n",
       "1            1   22517\n",
       "2            4   63539"
      ]
     },
     "metadata": {},
     "output_type": "display_data"
    }
   ],
   "source": [
    "data = [[2, 'Crew'], [4, 'Haven'], [5, 'Kristian']]\n",
    "Employees = pd.DataFrame(data, columns=['employee_id', 'name']).astype({'employee_id':'Int64', 'name':'object'})\n",
    "data = [[5, 76071], [1, 22517], [4, 63539]]\n",
    "Salaries = pd.DataFrame(data, columns=['employee_id', 'salary']).astype({'employee_id':'Int64', 'salary':'Int64'})\n",
    "\n",
    "display(Employees)\n",
    "display(Salaries)"
   ]
  },
  {
   "cell_type": "markdown",
   "metadata": {},
   "source": [
    "## Task"
   ]
  },
  {
   "cell_type": "code",
   "execution_count": 19,
   "metadata": {},
   "outputs": [
    {
     "data": {
      "text/html": [
       "<div>\n",
       "<style scoped>\n",
       "    .dataframe tbody tr th:only-of-type {\n",
       "        vertical-align: middle;\n",
       "    }\n",
       "\n",
       "    .dataframe tbody tr th {\n",
       "        vertical-align: top;\n",
       "    }\n",
       "\n",
       "    .dataframe thead th {\n",
       "        text-align: right;\n",
       "    }\n",
       "</style>\n",
       "<table border=\"1\" class=\"dataframe\">\n",
       "  <thead>\n",
       "    <tr style=\"text-align: right;\">\n",
       "      <th></th>\n",
       "      <th>employee_id</th>\n",
       "    </tr>\n",
       "  </thead>\n",
       "  <tbody>\n",
       "    <tr>\n",
       "      <th>0</th>\n",
       "      <td>1</td>\n",
       "    </tr>\n",
       "    <tr>\n",
       "      <th>1</th>\n",
       "      <td>2</td>\n",
       "    </tr>\n",
       "  </tbody>\n",
       "</table>\n",
       "</div>"
      ],
      "text/plain": [
       "   employee_id\n",
       "0            1\n",
       "1            2"
      ]
     },
     "metadata": {},
     "output_type": "display_data"
    }
   ],
   "source": [
    "# Define the SQL query\n",
    "query = \"\"\"\n",
    "SELECT employee_id\n",
    "FROM Employees\n",
    "WHERE employee_id NOT IN (SELECT employee_id FROM Salaries)\n",
    "UNION\n",
    "SELECT employee_id\n",
    "FROM Salaries\n",
    "WHERE employee_id NOT IN (SELECT employee_id FROM Employees)\n",
    "ORDER BY employee_id ASC\n",
    ";\n",
    "\"\"\"\n",
    "\n",
    "# Excute the query using pandasql\n",
    "result = sqldf(query, env={'Employees':Employees, 'Salaries':Salaries})\n",
    "\n",
    "# Dipslay the results dataframe\n",
    "display(result)"
   ]
  },
  {
   "cell_type": "code",
   "execution_count": null,
   "metadata": {},
   "outputs": [],
   "source": []
  }
 ],
 "metadata": {
  "kernelspec": {
   "display_name": "Python 3",
   "language": "python",
   "name": "python3"
  },
  "language_info": {
   "codemirror_mode": {
    "name": "ipython",
    "version": 3
   },
   "file_extension": ".py",
   "mimetype": "text/x-python",
   "name": "python",
   "nbconvert_exporter": "python",
   "pygments_lexer": "ipython3",
   "version": "3.10.12"
  },
  "orig_nbformat": 4
 },
 "nbformat": 4,
 "nbformat_minor": 2
}
