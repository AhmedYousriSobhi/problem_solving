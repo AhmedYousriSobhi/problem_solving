{
 "cells": [
  {
   "cell_type": "markdown",
   "metadata": {},
   "source": [
    "# LEET CODE\n",
    "## Problem-2884: Modify Columns\n",
    "Class: Easy\n",
    "\n",
    "Source: https://leetcode.com/problems/modify-columns/\n",
    "\n",
    "## Description\n",
    "DataFrame employees\n",
    "| Column Name | Type   |\n",
    "|-------------|--------|\n",
    "| name        | object |\n",
    "| salary      | int    |\n",
    "\n",
    "A company intends to give its employees a pay rise.\n",
    "\n",
    "## To Do\n",
    "Write a solution to modify the salary column by multiplying each salary by 2.\n",
    "\n",
    "The result format is in the following example.\n",
    "\n",
    "## Example\n",
    "\n",
    "Input:\n",
    "\n",
    "DataFrame employees\n",
    "| name    | salary |\n",
    "|---------|--------|\n",
    "| Jack    | 19666  |\n",
    "| Piper   | 74754  |\n",
    "| Mia     | 62509  |\n",
    "| Ulysses | 54866  |\n",
    "\n",
    "Output:\n",
    "| name    | salary |\n",
    "|---------|--------|\n",
    "| Jack    | 39332  |\n",
    "| Piper   | 149508 |\n",
    "| Mia     | 125018 |\n",
    "| Ulysses | 109732 |\n",
    "\n",
    "Explanation:\n",
    "- Every salary has been doubled.\n"
   ]
  },
  {
   "cell_type": "markdown",
   "metadata": {},
   "source": [
    "## Importing"
   ]
  },
  {
   "cell_type": "code",
   "execution_count": 1,
   "metadata": {},
   "outputs": [],
   "source": [
    "import pandas as pd\n",
    "from typing import List"
   ]
  },
  {
   "cell_type": "markdown",
   "metadata": {},
   "source": [
    "## Task"
   ]
  },
  {
   "cell_type": "code",
   "execution_count": 2,
   "metadata": {},
   "outputs": [],
   "source": [
    "def modifySalaryColumn(employees: pd.DataFrame) -> pd.DataFrame:\n",
    "    df = employees.copy()\n",
    "    df['salary'] = df.salary * 2\n",
    "    return df"
   ]
  },
  {
   "cell_type": "code",
   "execution_count": 5,
   "metadata": {},
   "outputs": [],
   "source": [
    "def modifySalaryColumn(employees: pd.DataFrame) -> pd.DataFrame:\n",
    "    return employees.assign(salary= 2*employees.salary)"
   ]
  },
  {
   "cell_type": "code",
   "execution_count": 6,
   "metadata": {},
   "outputs": [
    {
     "data": {
      "text/html": [
       "<div>\n",
       "<style scoped>\n",
       "    .dataframe tbody tr th:only-of-type {\n",
       "        vertical-align: middle;\n",
       "    }\n",
       "\n",
       "    .dataframe tbody tr th {\n",
       "        vertical-align: top;\n",
       "    }\n",
       "\n",
       "    .dataframe thead th {\n",
       "        text-align: right;\n",
       "    }\n",
       "</style>\n",
       "<table border=\"1\" class=\"dataframe\">\n",
       "  <thead>\n",
       "    <tr style=\"text-align: right;\">\n",
       "      <th></th>\n",
       "      <th>name</th>\n",
       "      <th>salary</th>\n",
       "    </tr>\n",
       "  </thead>\n",
       "  <tbody>\n",
       "    <tr>\n",
       "      <th>0</th>\n",
       "      <td>Ella</td>\n",
       "      <td>39332</td>\n",
       "    </tr>\n",
       "    <tr>\n",
       "      <th>1</th>\n",
       "      <td>David</td>\n",
       "      <td>149508</td>\n",
       "    </tr>\n",
       "    <tr>\n",
       "      <th>2</th>\n",
       "      <td>Zachary</td>\n",
       "      <td>125018</td>\n",
       "    </tr>\n",
       "    <tr>\n",
       "      <th>3</th>\n",
       "      <td>Alice</td>\n",
       "      <td>109732</td>\n",
       "    </tr>\n",
       "  </tbody>\n",
       "</table>\n",
       "</div>"
      ],
      "text/plain": [
       "      name  salary\n",
       "0     Ella   39332\n",
       "1    David  149508\n",
       "2  Zachary  125018\n",
       "3    Alice  109732"
      ]
     },
     "execution_count": 6,
     "metadata": {},
     "output_type": "execute_result"
    }
   ],
   "source": [
    "data = {\n",
    "    'name': ['Ella', 'David', 'Zachary', 'Alice',],\n",
    "    'salary': [19666, 74754, 62509, 54866]\n",
    "}\n",
    "\n",
    "df = pd.DataFrame(data)\n",
    "\n",
    "modifySalaryColumn(df)"
   ]
  },
  {
   "cell_type": "code",
   "execution_count": null,
   "metadata": {},
   "outputs": [],
   "source": []
  }
 ],
 "metadata": {
  "kernelspec": {
   "display_name": "Python 3",
   "language": "python",
   "name": "python3"
  },
  "language_info": {
   "codemirror_mode": {
    "name": "ipython",
    "version": 3
   },
   "file_extension": ".py",
   "mimetype": "text/x-python",
   "name": "python",
   "nbconvert_exporter": "python",
   "pygments_lexer": "ipython3",
   "version": "3.10.12"
  },
  "orig_nbformat": 4
 },
 "nbformat": 4,
 "nbformat_minor": 2
}
