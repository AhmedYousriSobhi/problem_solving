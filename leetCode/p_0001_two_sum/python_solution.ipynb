{
 "cells": [
  {
   "cell_type": "markdown",
   "metadata": {},
   "source": [
    "# LEET CODE\n",
    "## Problem-1: Two Sum\n",
    "Class: Easy\n",
    "\n",
    "Source: https://leetcode.com/problems/two-sum/\n",
    "\n",
    "## Description\n",
    "Given an array of integers nums and an integer target, return indices of the two numbers such that they add up to target.\n",
    "\n",
    "You may assume that each input would have exactly one solution, and you may not use the same element twice.\n",
    "\n",
    "You can return the answer in any order.\n",
    "\n",
    "\n",
    "## Example\n",
    "\n",
    "Example 1:\n",
    "```\n",
    "Input: nums = [2,7,11,15], target = 9\n",
    "Output: [0,1]\n",
    "Explanation: Because nums[0] + nums[1] == 9, we return [0, 1].\n",
    "```\n",
    "\n",
    "Example 2:\n",
    "```\n",
    "Input: nums = [3,2,4], target = 6\n",
    "Output: [1,2]\n",
    "```\n",
    "\n",
    "Example 3:\n",
    "```\n",
    "Input: nums = [3,3], target = 6\n",
    "Output: [0,1]\n",
    "```\n",
    "\n",
    "Constraints:\n",
    "- 2 <= nums.length <= 104\n",
    "- -109 <= nums[i] <= 109\n",
    "- -109 <= target <= 109\n",
    "- Only one valid answer exists.\n",
    "\n",
    " \n",
    "Follow-up: Can you come up with an algorithm that is less than O(n2) time complexity?"
   ]
  },
  {
   "cell_type": "markdown",
   "metadata": {},
   "source": [
    "## Solution"
   ]
  },
  {
   "cell_type": "code",
   "execution_count": 61,
   "metadata": {},
   "outputs": [],
   "source": [
    "from typing import List\n",
    "\n",
    "class Solution:\n",
    "    def twoSum(self, nums: List[int], target: int) -> List[int]:\n",
    "\n",
    "        index_dict = {index: nums[index] for index in range(0, len(nums))}\n",
    "\n",
    "        values_found = []\n",
    "\n",
    "        for idx, value in enumerate(nums):\n",
    "            if (target - value) in nums[idx+1:]:\n",
    "                # value exist\n",
    "                values_found.append(value)\n",
    "                values_found.append(target-value)\n",
    "                break\n",
    "\n",
    "        # print(index_dict)\n",
    "        # print(values_found)\n",
    "        return list(set([index for index, value in index_dict.items() if value in values_found]))\n",
    "            \n"
   ]
  },
  {
   "cell_type": "code",
   "execution_count": 62,
   "metadata": {},
   "outputs": [
    {
     "name": "stdout",
     "output_type": "stream",
     "text": [
      "{0: 2, 1: 7, 2: 11, 3: 15}\n",
      "[2, 7]\n"
     ]
    },
    {
     "data": {
      "text/plain": [
       "[0, 1]"
      ]
     },
     "execution_count": 62,
     "metadata": {},
     "output_type": "execute_result"
    }
   ],
   "source": [
    "nums = [2,7,11,15]\n",
    "target = 9\n",
    "\n",
    "sol = Solution()\n",
    "\n",
    "sol.twoSum(nums, target)"
   ]
  },
  {
   "cell_type": "code",
   "execution_count": 63,
   "metadata": {},
   "outputs": [
    {
     "name": "stdout",
     "output_type": "stream",
     "text": [
      "{0: 3, 1: 2, 2: 4}\n",
      "[2, 4]\n"
     ]
    },
    {
     "data": {
      "text/plain": [
       "[1, 2]"
      ]
     },
     "execution_count": 63,
     "metadata": {},
     "output_type": "execute_result"
    }
   ],
   "source": [
    "nums = [3, 2, 4]\n",
    "target = 6\n",
    "\n",
    "sol = Solution()\n",
    "\n",
    "sol.twoSum(nums, target)"
   ]
  },
  {
   "cell_type": "code",
   "execution_count": 64,
   "metadata": {},
   "outputs": [
    {
     "name": "stdout",
     "output_type": "stream",
     "text": [
      "{0: 3, 1: 3}\n",
      "[3, 3]\n"
     ]
    },
    {
     "data": {
      "text/plain": [
       "[0, 1]"
      ]
     },
     "execution_count": 64,
     "metadata": {},
     "output_type": "execute_result"
    }
   ],
   "source": [
    "nums = [3, 3]\n",
    "target = 6\n",
    "\n",
    "sol = Solution()\n",
    "\n",
    "sol.twoSum(nums, target)"
   ]
  },
  {
   "cell_type": "code",
   "execution_count": 65,
   "metadata": {},
   "outputs": [
    {
     "name": "stdout",
     "output_type": "stream",
     "text": [
      "{0: -3, 1: 4, 2: 3, 3: 90}\n",
      "[-3, 3]\n"
     ]
    },
    {
     "data": {
      "text/plain": [
       "[0, 2]"
      ]
     },
     "execution_count": 65,
     "metadata": {},
     "output_type": "execute_result"
    }
   ],
   "source": [
    "nums = [-3,4,3,90]\n",
    "target = 0\n",
    "\n",
    "sol = Solution()\n",
    "\n",
    "sol.twoSum(nums, target)"
   ]
  },
  {
   "cell_type": "code",
   "execution_count": null,
   "metadata": {},
   "outputs": [],
   "source": []
  }
 ],
 "metadata": {
  "kernelspec": {
   "display_name": "Python 3",
   "language": "python",
   "name": "python3"
  },
  "language_info": {
   "codemirror_mode": {
    "name": "ipython",
    "version": 3
   },
   "file_extension": ".py",
   "mimetype": "text/x-python",
   "name": "python",
   "nbconvert_exporter": "python",
   "pygments_lexer": "ipython3",
   "version": "3.10.12"
  },
  "orig_nbformat": 4
 },
 "nbformat": 4,
 "nbformat_minor": 2
}
