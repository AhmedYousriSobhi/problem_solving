{
 "cells": [
  {
   "cell_type": "markdown",
   "metadata": {},
   "source": [
    "# LEET CODE\n",
    "## Problem-1890: The Latest Login In 2020\n",
    "Class : Easy\n",
    "\n",
    "Source: https://leetcode.com/problems/the-latest-login-in-2020/\n",
    "\n",
    "## Description\n",
    "Table: Logins\n",
    "| Column Name    | Type     |\n",
    "|----------------|----------|\n",
    "| user_id        | int      |\n",
    "| time_stamp     | datetime |\n",
    "\n",
    "(user_id, time_stamp) is the primary key (combination of columns with unique values) for this table.\n",
    "\n",
    "Each row contains information about the login time for the user with ID user_id.\n",
    "\n",
    "## To Do\n",
    "Write a solution to report the latest login for all users in the year 2020. Do not include the users who did not login in 2020.\n",
    "\n",
    "Return the result table in any order.\n",
    "\n",
    "The result format is in the following example.\n",
    "\n",
    "## Example\n",
    "\n",
    "Input: \n",
    "\n",
    "Logins table:\n",
    "| user_id | time_stamp          |\n",
    "|---------|---------------------|\n",
    "| 6       | 2020-06-30 15:06:07 |\n",
    "| 6       | 2021-04-21 14:06:06 |\n",
    "| 6       | 2019-03-07 00:18:15 |\n",
    "| 8       | 2020-02-01 05:10:53 |\n",
    "| 8       | 2020-12-30 00:46:50 |\n",
    "| 2       | 2020-01-16 02:49:50 |\n",
    "| 2       | 2019-08-25 07:59:08 |\n",
    "| 14      | 2019-07-14 09:00:00 |\n",
    "| 14      | 2021-01-06 11:59:59 |\n",
    "\n",
    "Output: \n",
    "| user_id | last_stamp          |\n",
    "|---------|---------------------|\n",
    "| 6       | 2020-06-30 15:06:07 |\n",
    "| 8       | 2020-12-30 00:46:50 |\n",
    "| 2       | 2020-01-16 02:49:50 |\n",
    "\n",
    "Explanation: \n",
    "- User 6 logged into their account 3 times but only once in 2020, so we include this login in the result table.\n",
    "- User 8 logged into their account 2 times in 2020, once in February and once in December. We include only the latest one (December) in the result table.\n",
    "- User 2 logged into their account 2 times but only once in 2020, so we include this login in the result table.\n",
    "- User 14 did not login in 2020, so we do not include them in the result table.\n",
    "\n"
   ]
  },
  {
   "cell_type": "markdown",
   "metadata": {},
   "source": [
    "## Importing"
   ]
  },
  {
   "cell_type": "code",
   "execution_count": 1,
   "metadata": {},
   "outputs": [],
   "source": [
    "import pandas as pd\n",
    "from pandasql import sqldf"
   ]
  },
  {
   "cell_type": "markdown",
   "metadata": {},
   "source": [
    "## Define Schema"
   ]
  },
  {
   "cell_type": "code",
   "execution_count": 2,
   "metadata": {},
   "outputs": [
    {
     "data": {
      "text/html": [
       "<div>\n",
       "<style scoped>\n",
       "    .dataframe tbody tr th:only-of-type {\n",
       "        vertical-align: middle;\n",
       "    }\n",
       "\n",
       "    .dataframe tbody tr th {\n",
       "        vertical-align: top;\n",
       "    }\n",
       "\n",
       "    .dataframe thead th {\n",
       "        text-align: right;\n",
       "    }\n",
       "</style>\n",
       "<table border=\"1\" class=\"dataframe\">\n",
       "  <thead>\n",
       "    <tr style=\"text-align: right;\">\n",
       "      <th></th>\n",
       "      <th>user_id</th>\n",
       "      <th>time_stamp</th>\n",
       "    </tr>\n",
       "  </thead>\n",
       "  <tbody>\n",
       "    <tr>\n",
       "      <th>0</th>\n",
       "      <td>6</td>\n",
       "      <td>2020-06-30 15:06:07</td>\n",
       "    </tr>\n",
       "    <tr>\n",
       "      <th>1</th>\n",
       "      <td>6</td>\n",
       "      <td>2021-04-21 14:06:06</td>\n",
       "    </tr>\n",
       "    <tr>\n",
       "      <th>2</th>\n",
       "      <td>6</td>\n",
       "      <td>2019-03-07 00:18:15</td>\n",
       "    </tr>\n",
       "    <tr>\n",
       "      <th>3</th>\n",
       "      <td>8</td>\n",
       "      <td>2020-02-01 05:10:53</td>\n",
       "    </tr>\n",
       "    <tr>\n",
       "      <th>4</th>\n",
       "      <td>8</td>\n",
       "      <td>2020-12-30 00:46:50</td>\n",
       "    </tr>\n",
       "    <tr>\n",
       "      <th>5</th>\n",
       "      <td>2</td>\n",
       "      <td>2020-01-16 02:49:50</td>\n",
       "    </tr>\n",
       "    <tr>\n",
       "      <th>6</th>\n",
       "      <td>2</td>\n",
       "      <td>2019-08-25 07:59:08</td>\n",
       "    </tr>\n",
       "    <tr>\n",
       "      <th>7</th>\n",
       "      <td>14</td>\n",
       "      <td>2019-07-14 09:00:00</td>\n",
       "    </tr>\n",
       "    <tr>\n",
       "      <th>8</th>\n",
       "      <td>14</td>\n",
       "      <td>2021-01-06 11:59:59</td>\n",
       "    </tr>\n",
       "  </tbody>\n",
       "</table>\n",
       "</div>"
      ],
      "text/plain": [
       "   user_id           time_stamp\n",
       "0        6  2020-06-30 15:06:07\n",
       "1        6  2021-04-21 14:06:06\n",
       "2        6  2019-03-07 00:18:15\n",
       "3        8  2020-02-01 05:10:53\n",
       "4        8  2020-12-30 00:46:50\n",
       "5        2  2020-01-16 02:49:50\n",
       "6        2  2019-08-25 07:59:08\n",
       "7       14  2019-07-14 09:00:00\n",
       "8       14  2021-01-06 11:59:59"
      ]
     },
     "execution_count": 2,
     "metadata": {},
     "output_type": "execute_result"
    }
   ],
   "source": [
    "data = {\n",
    "    'user_id': [6, 6, 6, 8, 8, 2, 2, 14, 14],\n",
    "    'time_stamp': [\n",
    "        '2020-06-30 15:06:07', '2021-04-21 14:06:06', '2019-03-07 00:18:15',\n",
    "        '2020-02-01 05:10:53', '2020-12-30 00:46:50', '2020-01-16 02:49:50',\n",
    "        '2019-08-25 07:59:08', '2019-07-14 09:00:00', '2021-01-06 11:59:59'\n",
    "    ]\n",
    "}\n",
    "\n",
    "Logins = pd.DataFrame(data)\n",
    "\n",
    "Logins"
   ]
  },
  {
   "cell_type": "markdown",
   "metadata": {},
   "source": [
    "## Task"
   ]
  },
  {
   "cell_type": "code",
   "execution_count": 5,
   "metadata": {},
   "outputs": [
    {
     "data": {
      "text/html": [
       "<div>\n",
       "<style scoped>\n",
       "    .dataframe tbody tr th:only-of-type {\n",
       "        vertical-align: middle;\n",
       "    }\n",
       "\n",
       "    .dataframe tbody tr th {\n",
       "        vertical-align: top;\n",
       "    }\n",
       "\n",
       "    .dataframe thead th {\n",
       "        text-align: right;\n",
       "    }\n",
       "</style>\n",
       "<table border=\"1\" class=\"dataframe\">\n",
       "  <thead>\n",
       "    <tr style=\"text-align: right;\">\n",
       "      <th></th>\n",
       "      <th>user_id</th>\n",
       "      <th>last_stamp</th>\n",
       "    </tr>\n",
       "  </thead>\n",
       "  <tbody>\n",
       "    <tr>\n",
       "      <th>0</th>\n",
       "      <td>2</td>\n",
       "      <td>2020-01-16 02:49:50</td>\n",
       "    </tr>\n",
       "    <tr>\n",
       "      <th>1</th>\n",
       "      <td>6</td>\n",
       "      <td>2020-06-30 15:06:07</td>\n",
       "    </tr>\n",
       "    <tr>\n",
       "      <th>2</th>\n",
       "      <td>8</td>\n",
       "      <td>2020-12-30 00:46:50</td>\n",
       "    </tr>\n",
       "  </tbody>\n",
       "</table>\n",
       "</div>"
      ],
      "text/plain": [
       "   user_id           last_stamp\n",
       "0        2  2020-01-16 02:49:50\n",
       "1        6  2020-06-30 15:06:07\n",
       "2        8  2020-12-30 00:46:50"
      ]
     },
     "metadata": {},
     "output_type": "display_data"
    }
   ],
   "source": [
    "# Define the SQL query\n",
    "query = \"\"\"\n",
    "SELECT user_id, MAX(time_stamp) AS last_stamp\n",
    "FROM Logins\n",
    "WHERE strftime('%Y', time_stamp) = '2020'\n",
    "GROUP BY user_id\n",
    ";\n",
    "\"\"\"\n",
    "\n",
    "\n",
    "# Excute the query using pandasql\n",
    "result = sqldf(query, env={'Logins':Logins,})\n",
    "\n",
    "# Display the result dataframe\n",
    "display(result)"
   ]
  },
  {
   "cell_type": "markdown",
   "metadata": {},
   "source": [
    "In MYSQL, We will replace strftime with YEAR() function, so the query will be like"
   ]
  },
  {
   "cell_type": "code",
   "execution_count": null,
   "metadata": {},
   "outputs": [],
   "source": [
    "\"\"\"SELECT user_id, MAX(time_stamp) AS last_stamp\n",
    "FROM Logins\n",
    "WHERE YEAR(time_stamp) = 2020\n",
    "GROUP BY user_id\n",
    ";\"\"\""
   ]
  }
 ],
 "metadata": {
  "kernelspec": {
   "display_name": "Python 3",
   "language": "python",
   "name": "python3"
  },
  "language_info": {
   "codemirror_mode": {
    "name": "ipython",
    "version": 3
   },
   "file_extension": ".py",
   "mimetype": "text/x-python",
   "name": "python",
   "nbconvert_exporter": "python",
   "pygments_lexer": "ipython3",
   "version": "3.10.12"
  },
  "orig_nbformat": 4
 },
 "nbformat": 4,
 "nbformat_minor": 2
}
