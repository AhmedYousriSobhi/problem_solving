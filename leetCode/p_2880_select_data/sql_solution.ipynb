{
 "cells": [
  {
   "cell_type": "markdown",
   "metadata": {},
   "source": [
    "# LEET CODE\n",
    "## Problem-2880: Select Data\n",
    "Class: Easy\n",
    "\n",
    "Source: https://leetcode.com/problems/select-data/\n",
    "\n",
    "## Description\n",
    "DataFrame students\n",
    "| Column Name | Type   |\n",
    "|-------------|--------|\n",
    "| student_id  | int    |\n",
    "| name        | object |\n",
    "| age         | int    |\n",
    "\n",
    "## To Do\n",
    "Write a solution to select the name and age of the student with student_id = 101.\n",
    "\n",
    "The result format is in the following example.\n",
    "\n",
    "## Example\n",
    "\n",
    "Input:\n",
    "\n",
    "| student_id | name    | age |\n",
    "|------------|---------|-----|\n",
    "| 101        | Ulysses | 13  |\n",
    "| 53         | William | 10  |\n",
    "| 128        | Henry   | 6   |\n",
    "| 3          | Henry   | 11  |\n",
    "\n",
    "Output:\n",
    "\n",
    "| name    | age | \n",
    "|---------|-----|\n",
    "| Ulysses | 13  |\n",
    "\n",
    "Explanation:\n",
    "- Student Ulysses has student_id = 101, we select the name and age.\n",
    "\n"
   ]
  },
  {
   "cell_type": "markdown",
   "metadata": {},
   "source": [
    "## Importing"
   ]
  },
  {
   "cell_type": "code",
   "execution_count": 3,
   "metadata": {},
   "outputs": [],
   "source": [
    "import pandas as pd\n",
    "from typing import List"
   ]
  },
  {
   "cell_type": "markdown",
   "metadata": {},
   "source": [
    "## Task"
   ]
  },
  {
   "cell_type": "code",
   "execution_count": 4,
   "metadata": {},
   "outputs": [],
   "source": [
    "def selectData(students: pd.DataFrame) -> pd.DataFrame:\n",
    "    return students[students.student_id == 101].drop('student_id', axis=1)  "
   ]
  },
  {
   "cell_type": "code",
   "execution_count": 5,
   "metadata": {},
   "outputs": [
    {
     "data": {
      "text/html": [
       "<div>\n",
       "<style scoped>\n",
       "    .dataframe tbody tr th:only-of-type {\n",
       "        vertical-align: middle;\n",
       "    }\n",
       "\n",
       "    .dataframe tbody tr th {\n",
       "        vertical-align: top;\n",
       "    }\n",
       "\n",
       "    .dataframe thead th {\n",
       "        text-align: right;\n",
       "    }\n",
       "</style>\n",
       "<table border=\"1\" class=\"dataframe\">\n",
       "  <thead>\n",
       "    <tr style=\"text-align: right;\">\n",
       "      <th></th>\n",
       "      <th>name</th>\n",
       "      <th>age</th>\n",
       "    </tr>\n",
       "  </thead>\n",
       "  <tbody>\n",
       "    <tr>\n",
       "      <th>0</th>\n",
       "      <td>Ulysses</td>\n",
       "      <td>13</td>\n",
       "    </tr>\n",
       "  </tbody>\n",
       "</table>\n",
       "</div>"
      ],
      "text/plain": [
       "      name  age\n",
       "0  Ulysses   13"
      ]
     },
     "execution_count": 5,
     "metadata": {},
     "output_type": "execute_result"
    }
   ],
   "source": [
    "data = [[101, 'Ulysses', 13], [53, 'William', 10], [128, 'Henry', 6], [3, 'Henry', 11]]\n",
    "\n",
    "students = pd.DataFrame(data, columns=['student_id', 'name', 'age'])\n",
    "\n",
    "selectData(students)"
   ]
  },
  {
   "cell_type": "code",
   "execution_count": null,
   "metadata": {},
   "outputs": [],
   "source": []
  },
  {
   "cell_type": "code",
   "execution_count": null,
   "metadata": {},
   "outputs": [],
   "source": []
  }
 ],
 "metadata": {
  "kernelspec": {
   "display_name": "Python 3",
   "language": "python",
   "name": "python3"
  },
  "language_info": {
   "codemirror_mode": {
    "name": "ipython",
    "version": 3
   },
   "file_extension": ".py",
   "mimetype": "text/x-python",
   "name": "python",
   "nbconvert_exporter": "python",
   "pygments_lexer": "ipython3",
   "version": "3.10.12"
  },
  "orig_nbformat": 4
 },
 "nbformat": 4,
 "nbformat_minor": 2
}
