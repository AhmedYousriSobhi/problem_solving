{
 "cells": [
  {
   "cell_type": "markdown",
   "metadata": {},
   "source": [
    "# LEET CODE\n",
    "## Problem-20: Valid Parentheses\n",
    "Class: Easy\n",
    "\n",
    "Source: https://leetcode.com/problems/valid-parentheses/\n",
    "\n",
    "## Description\n",
    "Given a string s containing just the characters '(', ')', '{', '}', '[' and ']', determine if the input string is valid.\n",
    "\n",
    "An input string is valid if:\n",
    "\n",
    "1. Open brackets must be closed by the same type of brackets.\n",
    "2. Open brackets must be closed in the correct order.\n",
    "3. Every close bracket has a corresponding open bracket of the same type.\n",
    "\n",
    "### Example 1:\n",
    "\n",
    "- Input: s = \"()\"\n",
    "- Output: tru### e\n",
    "\n",
    "### Example 2:\n",
    "- Input: s = \"()[]{}\"\n",
    "- Output: true\n",
    "\n",
    "### Example 3:\n",
    "- Input: s = \"(]\"\n",
    "- Output: false\n",
    "\n",
    "### Constraints:\n",
    "- 1 <= s.length <= 104\n",
    "- s consists of parentheses only '()[]{}'.\n",
    "\n"
   ]
  },
  {
   "cell_type": "markdown",
   "metadata": {},
   "source": [
    "## Solution"
   ]
  },
  {
   "cell_type": "code",
   "execution_count": 31,
   "metadata": {},
   "outputs": [],
   "source": [
    "class Solution:\n",
    "    def isValid(self, s: str) -> bool:\n",
    "        \n",
    "        return_val = True\n",
    "        temp_lst = []\n",
    "        chars_closs = [')', ']', '}']\n",
    "\n",
    "        for i, chr in enumerate(s):\n",
    "\n",
    "            if chr not in chars_closs:\n",
    "                temp_lst.append(chr)\n",
    "                continue\n",
    "\n",
    "            elif len(temp_lst) == 0:\n",
    "                return_val = False\n",
    "                break\n",
    "\n",
    "            parenth = temp_lst.pop()+chr\n",
    "            if parenth != '()' and parenth != '[]' and parenth != '{}':\n",
    "                return_val = False\n",
    "                break    \n",
    "        \n",
    "        if len(temp_lst) != 0:\n",
    "            return_val = False\n",
    "        \n",
    "        return return_val\n"
   ]
  },
  {
   "cell_type": "code",
   "execution_count": 32,
   "metadata": {},
   "outputs": [
    {
     "data": {
      "text/plain": [
       "True"
      ]
     },
     "execution_count": 32,
     "metadata": {},
     "output_type": "execute_result"
    }
   ],
   "source": [
    "nums = \"()\"\n",
    "\n",
    "sol = Solution()\n",
    "\n",
    "sol.isValid(nums)"
   ]
  },
  {
   "cell_type": "code",
   "execution_count": 33,
   "metadata": {},
   "outputs": [
    {
     "data": {
      "text/plain": [
       "True"
      ]
     },
     "execution_count": 33,
     "metadata": {},
     "output_type": "execute_result"
    }
   ],
   "source": [
    "lnums = \"([{}])\"\n",
    "\n",
    "sol = Solution()\n",
    "\n",
    "sol.isValid(nums)"
   ]
  },
  {
   "cell_type": "code",
   "execution_count": 34,
   "metadata": {},
   "outputs": [
    {
     "data": {
      "text/plain": [
       "False"
      ]
     },
     "execution_count": 34,
     "metadata": {},
     "output_type": "execute_result"
    }
   ],
   "source": [
    "nums = \")\"\n",
    "\n",
    "sol = Solution()\n",
    "\n",
    "sol.isValid(nums)"
   ]
  },
  {
   "cell_type": "code",
   "execution_count": null,
   "metadata": {},
   "outputs": [],
   "source": []
  }
 ],
 "metadata": {
  "kernelspec": {
   "display_name": "Python 3",
   "language": "python",
   "name": "python3"
  },
  "language_info": {
   "codemirror_mode": {
    "name": "ipython",
    "version": 3
   },
   "file_extension": ".py",
   "mimetype": "text/x-python",
   "name": "python",
   "nbconvert_exporter": "python",
   "pygments_lexer": "ipython3",
   "version": "3.10.12"
  },
  "orig_nbformat": 4
 },
 "nbformat": 4,
 "nbformat_minor": 2
}
