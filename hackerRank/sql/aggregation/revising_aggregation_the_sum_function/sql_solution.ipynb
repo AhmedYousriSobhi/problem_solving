{
 "cells": [
  {
   "cell_type": "markdown",
   "metadata": {},
   "source": [
    "# HACKER RANK\n",
    "## Problem: Revising Aggregations - The Sum Function\n",
    "Class: Easy\n",
    "\n",
    "Source: https://www.hackerrank.com/challenges/revising-aggregations-sum/problem?isFullScreen=true&h_r=next-challenge&h_v=zen\n",
    "\n",
    "## Description\n",
    "Query the total population of all cities in CITY where District is California. \n",
    "\n",
    "Input Format\n",
    "\n",
    "The CITY table is described as follows:\n",
    "\n",
    "![image](https://s3.amazonaws.com/hr-challenge-images/8137/1449729804-f21d187d0f-CITY.jpg)\n"
   ]
  },
  {
   "cell_type": "markdown",
   "metadata": {},
   "source": [
    "## Importing"
   ]
  },
  {
   "cell_type": "code",
   "execution_count": 1,
   "metadata": {},
   "outputs": [],
   "source": [
    "import pandas as pd\n",
    "from pandasql import sqldf"
   ]
  },
  {
   "cell_type": "markdown",
   "metadata": {},
   "source": [
    "## Define Schema"
   ]
  },
  {
   "cell_type": "code",
   "execution_count": 2,
   "metadata": {},
   "outputs": [
    {
     "data": {
      "text/html": [
       "<div>\n",
       "<style scoped>\n",
       "    .dataframe tbody tr th:only-of-type {\n",
       "        vertical-align: middle;\n",
       "    }\n",
       "\n",
       "    .dataframe tbody tr th {\n",
       "        vertical-align: top;\n",
       "    }\n",
       "\n",
       "    .dataframe thead th {\n",
       "        text-align: right;\n",
       "    }\n",
       "</style>\n",
       "<table border=\"1\" class=\"dataframe\">\n",
       "  <thead>\n",
       "    <tr style=\"text-align: right;\">\n",
       "      <th></th>\n",
       "      <th>ID</th>\n",
       "      <th>NAME</th>\n",
       "      <th>COUNTRYCODE</th>\n",
       "      <th>DISTRICT</th>\n",
       "      <th>POPULATION</th>\n",
       "    </tr>\n",
       "  </thead>\n",
       "  <tbody>\n",
       "    <tr>\n",
       "      <th>0</th>\n",
       "      <td>6</td>\n",
       "      <td>Rotterdam</td>\n",
       "      <td>NLD</td>\n",
       "      <td>Zuid-Holland</td>\n",
       "      <td>593321</td>\n",
       "    </tr>\n",
       "    <tr>\n",
       "      <th>1</th>\n",
       "      <td>3878</td>\n",
       "      <td>Scottsdale</td>\n",
       "      <td>USA</td>\n",
       "      <td>Arizona</td>\n",
       "      <td>202705</td>\n",
       "    </tr>\n",
       "    <tr>\n",
       "      <th>2</th>\n",
       "      <td>3965</td>\n",
       "      <td>Corona</td>\n",
       "      <td>USA</td>\n",
       "      <td>California</td>\n",
       "      <td>124966</td>\n",
       "    </tr>\n",
       "    <tr>\n",
       "      <th>3</th>\n",
       "      <td>3973</td>\n",
       "      <td>Concord</td>\n",
       "      <td>USA</td>\n",
       "      <td>California</td>\n",
       "      <td>121780</td>\n",
       "    </tr>\n",
       "    <tr>\n",
       "      <th>4</th>\n",
       "      <td>3977</td>\n",
       "      <td>Cedar Rapids</td>\n",
       "      <td>USA</td>\n",
       "      <td>Iowa</td>\n",
       "      <td>120758</td>\n",
       "    </tr>\n",
       "    <tr>\n",
       "      <th>5</th>\n",
       "      <td>3982</td>\n",
       "      <td>Coral Springs</td>\n",
       "      <td>USA</td>\n",
       "      <td>Florida</td>\n",
       "      <td>117549</td>\n",
       "    </tr>\n",
       "    <tr>\n",
       "      <th>6</th>\n",
       "      <td>4054</td>\n",
       "      <td>Fairfield</td>\n",
       "      <td>USA</td>\n",
       "      <td>California</td>\n",
       "      <td>92256</td>\n",
       "    </tr>\n",
       "    <tr>\n",
       "      <th>7</th>\n",
       "      <td>4058</td>\n",
       "      <td>Boulder</td>\n",
       "      <td>USA</td>\n",
       "      <td>Colorado</td>\n",
       "      <td>91238</td>\n",
       "    </tr>\n",
       "    <tr>\n",
       "      <th>8</th>\n",
       "      <td>4061</td>\n",
       "      <td>Fall River</td>\n",
       "      <td>USA</td>\n",
       "      <td>Massachusetts</td>\n",
       "      <td>90555</td>\n",
       "    </tr>\n",
       "  </tbody>\n",
       "</table>\n",
       "</div>"
      ],
      "text/plain": [
       "     ID           NAME COUNTRYCODE       DISTRICT  POPULATION\n",
       "0     6      Rotterdam         NLD   Zuid-Holland      593321\n",
       "1  3878     Scottsdale         USA        Arizona      202705\n",
       "2  3965         Corona         USA     California      124966\n",
       "3  3973        Concord         USA     California      121780\n",
       "4  3977   Cedar Rapids         USA           Iowa      120758\n",
       "5  3982  Coral Springs         USA        Florida      117549\n",
       "6  4054      Fairfield         USA     California       92256\n",
       "7  4058        Boulder         USA       Colorado       91238\n",
       "8  4061     Fall River         USA  Massachusetts       90555"
      ]
     },
     "execution_count": 2,
     "metadata": {},
     "output_type": "execute_result"
    }
   ],
   "source": [
    "# Create a list of tuples with the data\n",
    "data = [\n",
    "    [6, 'Rotterdam', 'NLD', 'Zuid-Holland', 593321],\n",
    "    [3878, 'Scottsdale', 'USA', 'Arizona', 202705],\n",
    "    [3965, 'Corona', 'USA', 'California', 124966],\n",
    "    [3973, 'Concord', 'USA', 'California', 121780],\n",
    "    [3977, 'Cedar Rapids', 'USA', 'Iowa', 120758],\n",
    "    [3982, 'Coral Springs', 'USA', 'Florida', 117549],\n",
    "    [4054, 'Fairfield', 'USA', 'California', 92256],\n",
    "    [4058, 'Boulder', 'USA', 'Colorado', 91238],\n",
    "    [4061, 'Fall River', 'USA', 'Massachusetts', 90555]\n",
    "]\n",
    "\n",
    "columns = ['ID', 'NAME', 'COUNTRYCODE', 'DISTRICT', 'POPULATION']\n",
    "\n",
    "df = pd.DataFrame(data, columns=columns)\n",
    "\n",
    "df"
   ]
  },
  {
   "cell_type": "markdown",
   "metadata": {},
   "source": [
    "## Task"
   ]
  },
  {
   "cell_type": "code",
   "execution_count": 4,
   "metadata": {},
   "outputs": [
    {
     "data": {
      "text/html": [
       "<div>\n",
       "<style scoped>\n",
       "    .dataframe tbody tr th:only-of-type {\n",
       "        vertical-align: middle;\n",
       "    }\n",
       "\n",
       "    .dataframe tbody tr th {\n",
       "        vertical-align: top;\n",
       "    }\n",
       "\n",
       "    .dataframe thead th {\n",
       "        text-align: right;\n",
       "    }\n",
       "</style>\n",
       "<table border=\"1\" class=\"dataframe\">\n",
       "  <thead>\n",
       "    <tr style=\"text-align: right;\">\n",
       "      <th></th>\n",
       "      <th>SUM(POPULATION)</th>\n",
       "    </tr>\n",
       "  </thead>\n",
       "  <tbody>\n",
       "    <tr>\n",
       "      <th>0</th>\n",
       "      <td>339002</td>\n",
       "    </tr>\n",
       "  </tbody>\n",
       "</table>\n",
       "</div>"
      ],
      "text/plain": [
       "   SUM(POPULATION)\n",
       "0           339002"
      ]
     },
     "metadata": {},
     "output_type": "display_data"
    }
   ],
   "source": [
    "# Define the SQL query\n",
    "query = \"\"\"\n",
    "SELECT SUM(POPULATION)\n",
    "FROM CITY\n",
    "WHERE DISTRICT = 'California'\n",
    ";\n",
    "\"\"\"\n",
    "\n",
    "# Excute the query using pandasql\n",
    "result = sqldf(query, env={'CITY':df})\n",
    "\n",
    "# Display the result dataframe\n",
    "display(result)"
   ]
  },
  {
   "cell_type": "code",
   "execution_count": null,
   "metadata": {},
   "outputs": [],
   "source": []
  }
 ],
 "metadata": {
  "kernelspec": {
   "display_name": "Python 3",
   "language": "python",
   "name": "python3"
  },
  "language_info": {
   "codemirror_mode": {
    "name": "ipython",
    "version": 3
   },
   "file_extension": ".py",
   "mimetype": "text/x-python",
   "name": "python",
   "nbconvert_exporter": "python",
   "pygments_lexer": "ipython3",
   "version": "3.10.12"
  },
  "orig_nbformat": 4
 },
 "nbformat": 4,
 "nbformat_minor": 2
}
