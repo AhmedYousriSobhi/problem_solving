{
 "cells": [
  {
   "cell_type": "markdown",
   "metadata": {},
   "source": [
    "# HACKER RANK\n",
    "## Problem: Weather Observation Station 2\n",
    "Class: Easy\n",
    "\n",
    "Source: https://www.hackerrank.com/challenges/weather-observation-station-2/problem?isFullScreen=true\n",
    "\n",
    "## Description\n",
    "Query the following two values from the STATION table:\n",
    "\n",
    "- The sum of all values in LAT_N rounded to a scale of 2 decimal places.\n",
    "- The sum of all values in LONG_W rounded to a scale of 2 decimal places.\n",
    "\n",
    "Input Format\n",
    "\n",
    "The STATION table is described as follows:\n",
    "\n",
    "![image](https://s3.amazonaws.com/hr-challenge-images/9336/1449345840-5f0a551030-Station.jpg)\n",
    "\n",
    "where LAT_N is the northern latitude and LONG_W is the western longitude.\n",
    "\n",
    "Output Format\n",
    "\n",
    "Your results must be in the form:\n",
    "\n",
    "lat lon\n",
    "\n",
    "where lat is the sum of all values in LAT_N and lon is the sum of all values in LONG_W. Both results must be rounded to a scale of decimal places.\n"
   ]
  },
  {
   "cell_type": "markdown",
   "metadata": {},
   "source": [
    "## Importing"
   ]
  },
  {
   "cell_type": "code",
   "execution_count": 1,
   "metadata": {},
   "outputs": [],
   "source": [
    "import pandas as pd\n",
    "from pandasql import sqldf"
   ]
  },
  {
   "cell_type": "markdown",
   "metadata": {},
   "source": [
    "## Define Schema"
   ]
  },
  {
   "cell_type": "code",
   "execution_count": 3,
   "metadata": {},
   "outputs": [
    {
     "data": {
      "text/html": [
       "<div>\n",
       "<style scoped>\n",
       "    .dataframe tbody tr th:only-of-type {\n",
       "        vertical-align: middle;\n",
       "    }\n",
       "\n",
       "    .dataframe tbody tr th {\n",
       "        vertical-align: top;\n",
       "    }\n",
       "\n",
       "    .dataframe thead th {\n",
       "        text-align: right;\n",
       "    }\n",
       "</style>\n",
       "<table border=\"1\" class=\"dataframe\">\n",
       "  <thead>\n",
       "    <tr style=\"text-align: right;\">\n",
       "      <th></th>\n",
       "      <th>ID</th>\n",
       "      <th>CITY</th>\n",
       "      <th>STATE</th>\n",
       "      <th>LAT_N</th>\n",
       "      <th>LONG_W</th>\n",
       "    </tr>\n",
       "  </thead>\n",
       "  <tbody>\n",
       "    <tr>\n",
       "      <th>0</th>\n",
       "      <td>794</td>\n",
       "      <td>Kissee Mills</td>\n",
       "      <td>MO</td>\n",
       "      <td>139.650365</td>\n",
       "      <td>73.416099</td>\n",
       "    </tr>\n",
       "    <tr>\n",
       "      <th>1</th>\n",
       "      <td>824</td>\n",
       "      <td>Loma Mar</td>\n",
       "      <td>CA</td>\n",
       "      <td>48.697886</td>\n",
       "      <td>130.539354</td>\n",
       "    </tr>\n",
       "    <tr>\n",
       "      <th>2</th>\n",
       "      <td>603</td>\n",
       "      <td>Sandy Hook,CT</td>\n",
       "      <td>72.33748</td>\n",
       "      <td>148.240077</td>\n",
       "      <td>NaN</td>\n",
       "    </tr>\n",
       "    <tr>\n",
       "      <th>3</th>\n",
       "      <td>478</td>\n",
       "      <td>Tipton</td>\n",
       "      <td>IN</td>\n",
       "      <td>33.547927</td>\n",
       "      <td>97.942860</td>\n",
       "    </tr>\n",
       "    <tr>\n",
       "      <th>4</th>\n",
       "      <td>619</td>\n",
       "      <td>Arlington</td>\n",
       "      <td>CO</td>\n",
       "      <td>75.179931</td>\n",
       "      <td>92.946159</td>\n",
       "    </tr>\n",
       "    <tr>\n",
       "      <th>5</th>\n",
       "      <td>711</td>\n",
       "      <td>Turner</td>\n",
       "      <td>AR</td>\n",
       "      <td>50.243805</td>\n",
       "      <td>101.458016</td>\n",
       "    </tr>\n",
       "    <tr>\n",
       "      <th>6</th>\n",
       "      <td>839</td>\n",
       "      <td>Slidell</td>\n",
       "      <td>LA</td>\n",
       "      <td>85.322703</td>\n",
       "      <td>151.874328</td>\n",
       "    </tr>\n",
       "    <tr>\n",
       "      <th>7</th>\n",
       "      <td>411</td>\n",
       "      <td>Negreet</td>\n",
       "      <td>LA</td>\n",
       "      <td>98.970719</td>\n",
       "      <td>105.337611</td>\n",
       "    </tr>\n",
       "    <tr>\n",
       "      <th>8</th>\n",
       "      <td>588</td>\n",
       "      <td>Glencoe</td>\n",
       "      <td>KY</td>\n",
       "      <td>46.387392</td>\n",
       "      <td>136.042703</td>\n",
       "    </tr>\n",
       "  </tbody>\n",
       "</table>\n",
       "</div>"
      ],
      "text/plain": [
       "    ID           CITY     STATE       LAT_N      LONG_W\n",
       "0  794   Kissee Mills        MO  139.650365   73.416099\n",
       "1  824       Loma Mar        CA   48.697886  130.539354\n",
       "2  603  Sandy Hook,CT  72.33748  148.240077         NaN\n",
       "3  478         Tipton        IN   33.547927   97.942860\n",
       "4  619      Arlington        CO   75.179931   92.946159\n",
       "5  711         Turner        AR   50.243805  101.458016\n",
       "6  839        Slidell        LA   85.322703  151.874328\n",
       "7  411        Negreet        LA   98.970719  105.337611\n",
       "8  588        Glencoe        KY   46.387392  136.042703"
      ]
     },
     "execution_count": 3,
     "metadata": {},
     "output_type": "execute_result"
    }
   ],
   "source": [
    "# Create a list of tuples with the data\n",
    "data = [\n",
    "[794, 'Kissee Mills', 'MO', 139.6503652000, 73.4160988400],\n",
    "[824, 'Loma Mar', 'CA', 48.6978857200, 130.5393541000],\n",
    "[603, 'Sandy Hook,' 'CT', 72.3374801400, 148.2400769000],\n",
    "[478, 'Tipton', 'IN', 33.5479270100, 97.9428603600],\n",
    "[619, 'Arlington', 'CO', 75.1799307900, 92.9461589400],\n",
    "[711, 'Turner', 'AR', 50.2438053400, 101.4580163000],\n",
    "[839, 'Slidell', 'LA', 85.3227030400, 151.8743276000],\n",
    "[411, 'Negreet', 'LA', 98.9707194000, 105.3376115000],\n",
    "[588, 'Glencoe', 'KY', 46.3873924400, 136.0427027000],\n",
    "]\n",
    "\n",
    "columns = ['ID', 'CITY', 'STATE', 'LAT_N', 'LONG_W']\n",
    "\n",
    "df = pd.DataFrame(data, columns=columns)\n",
    "\n",
    "df"
   ]
  },
  {
   "cell_type": "markdown",
   "metadata": {},
   "source": [
    "## Task"
   ]
  },
  {
   "cell_type": "code",
   "execution_count": 5,
   "metadata": {},
   "outputs": [
    {
     "data": {
      "text/html": [
       "<div>\n",
       "<style scoped>\n",
       "    .dataframe tbody tr th:only-of-type {\n",
       "        vertical-align: middle;\n",
       "    }\n",
       "\n",
       "    .dataframe tbody tr th {\n",
       "        vertical-align: top;\n",
       "    }\n",
       "\n",
       "    .dataframe thead th {\n",
       "        text-align: right;\n",
       "    }\n",
       "</style>\n",
       "<table border=\"1\" class=\"dataframe\">\n",
       "  <thead>\n",
       "    <tr style=\"text-align: right;\">\n",
       "      <th></th>\n",
       "      <th>ROUND(SUM(LAT_N), 2)</th>\n",
       "      <th>ROUND(SUM(LONG_W), 2)</th>\n",
       "    </tr>\n",
       "  </thead>\n",
       "  <tbody>\n",
       "    <tr>\n",
       "      <th>0</th>\n",
       "      <td>726.24</td>\n",
       "      <td>889.56</td>\n",
       "    </tr>\n",
       "  </tbody>\n",
       "</table>\n",
       "</div>"
      ],
      "text/plain": [
       "   ROUND(SUM(LAT_N), 2)  ROUND(SUM(LONG_W), 2)\n",
       "0                726.24                 889.56"
      ]
     },
     "metadata": {},
     "output_type": "display_data"
    }
   ],
   "source": [
    "# Define the SQL query\n",
    "query = \"\"\"\n",
    "SELECT ROUND(SUM(LAT_N), 2), ROUND(SUM(LONG_W), 2)\n",
    "FROM STATION;\n",
    "\"\"\"\n",
    "\n",
    "# Excute the query using pandasql\n",
    "result = sqldf(query, env={'STATION':df})\n",
    "\n",
    "# Display the result dataframe\n",
    "display(result)"
   ]
  },
  {
   "cell_type": "code",
   "execution_count": null,
   "metadata": {},
   "outputs": [],
   "source": []
  }
 ],
 "metadata": {
  "kernelspec": {
   "display_name": "Python 3",
   "language": "python",
   "name": "python3"
  },
  "language_info": {
   "codemirror_mode": {
    "name": "ipython",
    "version": 3
   },
   "file_extension": ".py",
   "mimetype": "text/x-python",
   "name": "python",
   "nbconvert_exporter": "python",
   "pygments_lexer": "ipython3",
   "version": "3.10.12"
  },
  "orig_nbformat": 4
 },
 "nbformat": 4,
 "nbformat_minor": 2
}
